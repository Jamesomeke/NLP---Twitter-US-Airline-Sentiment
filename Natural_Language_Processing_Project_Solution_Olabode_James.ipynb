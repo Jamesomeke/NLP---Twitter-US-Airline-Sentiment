{
 "cells": [
  {
   "cell_type": "markdown",
   "metadata": {
    "colab_type": "text",
    "id": "MCnZOPsd48Gq"
   },
   "source": [
    "Author: Olabode James"
   ]
  },
  {
   "cell_type": "markdown",
   "metadata": {
    "colab_type": "text",
    "id": "SH-Ccb4o7mAL"
   },
   "source": [
    "PROJECT SCOPE\n",
    "- Basic understanding of text pre-processing.\n",
    "- What to do after text pre-processing:\n",
    "    Bag of words\n",
    "    Tf-idf\n",
    "- Build the classification model.\n",
    "- Evaluate the Model."
   ]
  },
  {
   "cell_type": "markdown",
   "metadata": {
    "colab_type": "text",
    "id": "aULBFl1v5oEt"
   },
   "source": [
    "# 1. Import the libraries, load dataset, print shape of data, data description. (5 Marks)"
   ]
  },
  {
   "cell_type": "code",
   "execution_count": 1,
   "metadata": {
    "colab": {
     "base_uri": "https://localhost:8080/",
     "height": 106
    },
    "colab_type": "code",
    "id": "syGJEN4f7Chh",
    "outputId": "2f0830f2-353e-4ea6-e6ad-8a6ce7bbfc0d"
   },
   "outputs": [
    {
     "name": "stdout",
     "output_type": "stream",
     "text": [
      "Requirement already satisfied: contractions in /usr/local/lib/python3.6/dist-packages (0.0.25)\n",
      "Requirement already satisfied: textsearch in /usr/local/lib/python3.6/dist-packages (from contractions) (0.0.17)\n",
      "Requirement already satisfied: Unidecode in /usr/local/lib/python3.6/dist-packages (from textsearch->contractions) (1.1.1)\n",
      "Requirement already satisfied: pyahocorasick in /usr/local/lib/python3.6/dist-packages (from textsearch->contractions) (1.4.0)\n"
     ]
    }
   ],
   "source": [
    "#Dependencies - if not available\n",
    "!pip install contractions\n",
    "#!pip install xgboost"
   ]
  },
  {
   "cell_type": "code",
   "execution_count": 2,
   "metadata": {
    "colab": {
     "base_uri": "https://localhost:8080/",
     "height": 175
    },
    "colab_type": "code",
    "id": "epg555z58S1f",
    "outputId": "0190e509-c457-4bed-b74b-019e7866326d"
   },
   "outputs": [
    {
     "name": "stderr",
     "output_type": "stream",
     "text": [
      "/usr/local/lib/python3.6/dist-packages/statsmodels/tools/_testing.py:19: FutureWarning: pandas.util.testing is deprecated. Use the functions in the public API at pandas.testing instead.\n",
      "  import pandas.util.testing as tm\n"
     ]
    },
    {
     "name": "stdout",
     "output_type": "stream",
     "text": [
      "[nltk_data] Downloading package stopwords to /root/nltk_data...\n",
      "[nltk_data]   Package stopwords is already up-to-date!\n",
      "[nltk_data] Downloading package punkt to /root/nltk_data...\n",
      "[nltk_data]   Package punkt is already up-to-date!\n",
      "[nltk_data] Downloading package wordnet to /root/nltk_data...\n",
      "[nltk_data]   Package wordnet is already up-to-date!\n"
     ]
    }
   ],
   "source": [
    "import re, string, unicodedata                          # Import Regex, string and unicodedata.\n",
    "import contractions                                     # Import contractions library.\n",
    "from bs4 import BeautifulSoup                           # Import BeautifulSoup.\n",
    "\n",
    "import matplotlib.pyplot as plt\n",
    "import seaborn as sns\n",
    "sns.set(color_codes=True) # adds a nice background to the graphs\n",
    "\n",
    "from sklearn.model_selection import train_test_split\n",
    "from sklearn import preprocessing \n",
    "\n",
    "import numpy as np                                      # Import numpy.\n",
    "import pandas as pd                                     # Import pandas.\n",
    "import nltk                                             # Import Natural Language Tool-Kit.\n",
    "\n",
    "nltk.download('stopwords')                              # Download Stopwords.\n",
    "nltk.download('punkt')\n",
    "nltk.download('wordnet')\n",
    "\n",
    "from nltk.corpus import stopwords                       # Import stopwords.\n",
    "from nltk.tokenize import word_tokenize, sent_tokenize  # Import Tokenizer.\n",
    "from nltk.stem.wordnet import WordNetLemmatizer         # Import Lemmatizer.\n",
    "\n",
    "\n",
    "# Vectorization (Convert text data to numbers).\n",
    "from sklearn.feature_extraction.text import CountVectorizer\n",
    "from sklearn.feature_extraction.text import TfidfVectorizer"
   ]
  },
  {
   "cell_type": "code",
   "execution_count": 3,
   "metadata": {
    "colab": {},
    "colab_type": "code",
    "id": "nf1bscv6fBTu"
   },
   "outputs": [],
   "source": [
    "#Classification Algorithms and Functions\n",
    "\n",
    "from mlxtend.plotting import plot_confusion_matrix\n",
    "from sklearn.tree import DecisionTreeClassifier\n",
    "from sklearn.ensemble import RandomForestClassifier\n",
    "from xgboost import XGBClassifier\n",
    "from sklearn.metrics import accuracy_score, confusion_matrix, classification_report\n",
    "\n",
    "#DeepLearning Using 1D ConvNet\n",
    "from keras.models import Sequential\n",
    "from keras.layers import Dense, Conv1D, Flatten, MaxPooling1D\n",
    "from sklearn.metrics import confusion_matrix"
   ]
  },
  {
   "cell_type": "markdown",
   "metadata": {
    "colab_type": "text",
    "id": "WHwGJXiV9Yco"
   },
   "source": [
    "### Import PyDrive and Google Drive Libraries"
   ]
  },
  {
   "cell_type": "code",
   "execution_count": 4,
   "metadata": {
    "colab": {},
    "colab_type": "code",
    "id": "XAE1nPvg9GYb"
   },
   "outputs": [],
   "source": [
    "# Google Drive Accessibility libraries\n",
    "from oauth2client.client import GoogleCredentials\n",
    "from pydrive.auth import GoogleAuth\n",
    "from pydrive.drive import GoogleDrive\n",
    "from google.colab import auth"
   ]
  },
  {
   "cell_type": "markdown",
   "metadata": {
    "colab_type": "text",
    "id": "NgtoGG8o9ta_"
   },
   "source": [
    "#### NOTE: PyDrive and GDrive Libraries is being used out of the need to use Link Shareable Files in this project - the author believe this is more scaleable than the standard content mount procedure - need to keep a persistent state."
   ]
  },
  {
   "cell_type": "code",
   "execution_count": 5,
   "metadata": {
    "colab": {},
    "colab_type": "code",
    "id": "QaqgLj4g-ITM"
   },
   "outputs": [],
   "source": [
    "tweets_link = 'https://drive.google.com/file/d/1kVMjOHrqP_SH47Pz5L_lvsgGmtn-_8ey/view?usp=sharing' # The shareable link"
   ]
  },
  {
   "cell_type": "code",
   "execution_count": 6,
   "metadata": {
    "colab": {},
    "colab_type": "code",
    "id": "ze1WmnHe-qm2"
   },
   "outputs": [],
   "source": [
    "def getShareableID(datalocation):\n",
    "  fluff, id = datalocation.split('/view')\n",
    "  fluff1, id1 = fluff.split('d/')\n",
    "  return id1"
   ]
  },
  {
   "cell_type": "code",
   "execution_count": 7,
   "metadata": {
    "colab": {},
    "colab_type": "code",
    "id": "sPCukrv5-0Oy"
   },
   "outputs": [],
   "source": [
    "# Authenticate and create the PyDrive client.\n",
    "auth.authenticate_user()\n",
    "gauth = GoogleAuth()\n",
    "gauth.credentials = GoogleCredentials.get_application_default()\n",
    "drive = GoogleDrive(gauth)"
   ]
  },
  {
   "cell_type": "code",
   "execution_count": 8,
   "metadata": {
    "colab": {
     "base_uri": "https://localhost:8080/",
     "height": 35
    },
    "colab_type": "code",
    "id": "6lmZnv4M_AQ7",
    "outputId": "f775c852-e34d-4053-940b-4009e4915a38"
   },
   "outputs": [
    {
     "name": "stdout",
     "output_type": "stream",
     "text": [
      "1kVMjOHrqP_SH47Pz5L_lvsgGmtn-_8ey\n"
     ]
    }
   ],
   "source": [
    "#Fetch Tweet Data\n",
    "tweets_id = getShareableID(tweets_link)\n",
    "print(tweets_id) # Verify that WE have right id fromt the string manipulation"
   ]
  },
  {
   "cell_type": "code",
   "execution_count": 9,
   "metadata": {
    "colab": {},
    "colab_type": "code",
    "id": "dKZX4jzQ_dY_"
   },
   "outputs": [],
   "source": [
    "tweetsdata = drive.CreateFile({'id':tweets_id}) \n",
    "tweetsdata.GetContentFile('Tweets.csv')  \n",
    "tweetsdata = pd.read_csv('Tweets.csv')"
   ]
  },
  {
   "cell_type": "code",
   "execution_count": 10,
   "metadata": {
    "colab": {
     "base_uri": "https://localhost:8080/",
     "height": 35
    },
    "colab_type": "code",
    "id": "ld4bHIAm_uGL",
    "outputId": "f3453538-6047-4162-9eb0-51b312e6d2a4"
   },
   "outputs": [
    {
     "data": {
      "text/plain": [
       "(14640, 15)"
      ]
     },
     "execution_count": 10,
     "metadata": {
      "tags": []
     },
     "output_type": "execute_result"
    }
   ],
   "source": [
    "#check shape of tweets data\n",
    "tweetsdata.shape"
   ]
  },
  {
   "cell_type": "code",
   "execution_count": 11,
   "metadata": {
    "colab": {
     "base_uri": "https://localhost:8080/",
     "height": 852
    },
    "colab_type": "code",
    "id": "DnF2EqEb_42t",
    "outputId": "cf607eca-d14a-4a7b-be96-2aa593eccd62"
   },
   "outputs": [
    {
     "data": {
      "text/html": [
       "<div>\n",
       "<style scoped>\n",
       "    .dataframe tbody tr th:only-of-type {\n",
       "        vertical-align: middle;\n",
       "    }\n",
       "\n",
       "    .dataframe tbody tr th {\n",
       "        vertical-align: top;\n",
       "    }\n",
       "\n",
       "    .dataframe thead th {\n",
       "        text-align: right;\n",
       "    }\n",
       "</style>\n",
       "<table border=\"1\" class=\"dataframe\">\n",
       "  <thead>\n",
       "    <tr style=\"text-align: right;\">\n",
       "      <th></th>\n",
       "      <th>tweet_id</th>\n",
       "      <th>airline_sentiment</th>\n",
       "      <th>airline_sentiment_confidence</th>\n",
       "      <th>negativereason</th>\n",
       "      <th>negativereason_confidence</th>\n",
       "      <th>airline</th>\n",
       "      <th>airline_sentiment_gold</th>\n",
       "      <th>name</th>\n",
       "      <th>negativereason_gold</th>\n",
       "      <th>retweet_count</th>\n",
       "      <th>text</th>\n",
       "      <th>tweet_coord</th>\n",
       "      <th>tweet_created</th>\n",
       "      <th>tweet_location</th>\n",
       "      <th>user_timezone</th>\n",
       "    </tr>\n",
       "  </thead>\n",
       "  <tbody>\n",
       "    <tr>\n",
       "      <th>0</th>\n",
       "      <td>570306133677760513</td>\n",
       "      <td>neutral</td>\n",
       "      <td>1.0000</td>\n",
       "      <td>NaN</td>\n",
       "      <td>NaN</td>\n",
       "      <td>Virgin America</td>\n",
       "      <td>NaN</td>\n",
       "      <td>cairdin</td>\n",
       "      <td>NaN</td>\n",
       "      <td>0</td>\n",
       "      <td>@VirginAmerica What @dhepburn said.</td>\n",
       "      <td>NaN</td>\n",
       "      <td>2015-02-24 11:35:52 -0800</td>\n",
       "      <td>NaN</td>\n",
       "      <td>Eastern Time (US &amp; Canada)</td>\n",
       "    </tr>\n",
       "    <tr>\n",
       "      <th>1</th>\n",
       "      <td>570301130888122368</td>\n",
       "      <td>positive</td>\n",
       "      <td>0.3486</td>\n",
       "      <td>NaN</td>\n",
       "      <td>0.0000</td>\n",
       "      <td>Virgin America</td>\n",
       "      <td>NaN</td>\n",
       "      <td>jnardino</td>\n",
       "      <td>NaN</td>\n",
       "      <td>0</td>\n",
       "      <td>@VirginAmerica plus you've added commercials t...</td>\n",
       "      <td>NaN</td>\n",
       "      <td>2015-02-24 11:15:59 -0800</td>\n",
       "      <td>NaN</td>\n",
       "      <td>Pacific Time (US &amp; Canada)</td>\n",
       "    </tr>\n",
       "    <tr>\n",
       "      <th>2</th>\n",
       "      <td>570301083672813571</td>\n",
       "      <td>neutral</td>\n",
       "      <td>0.6837</td>\n",
       "      <td>NaN</td>\n",
       "      <td>NaN</td>\n",
       "      <td>Virgin America</td>\n",
       "      <td>NaN</td>\n",
       "      <td>yvonnalynn</td>\n",
       "      <td>NaN</td>\n",
       "      <td>0</td>\n",
       "      <td>@VirginAmerica I didn't today... Must mean I n...</td>\n",
       "      <td>NaN</td>\n",
       "      <td>2015-02-24 11:15:48 -0800</td>\n",
       "      <td>Lets Play</td>\n",
       "      <td>Central Time (US &amp; Canada)</td>\n",
       "    </tr>\n",
       "    <tr>\n",
       "      <th>3</th>\n",
       "      <td>570301031407624196</td>\n",
       "      <td>negative</td>\n",
       "      <td>1.0000</td>\n",
       "      <td>Bad Flight</td>\n",
       "      <td>0.7033</td>\n",
       "      <td>Virgin America</td>\n",
       "      <td>NaN</td>\n",
       "      <td>jnardino</td>\n",
       "      <td>NaN</td>\n",
       "      <td>0</td>\n",
       "      <td>@VirginAmerica it's really aggressive to blast...</td>\n",
       "      <td>NaN</td>\n",
       "      <td>2015-02-24 11:15:36 -0800</td>\n",
       "      <td>NaN</td>\n",
       "      <td>Pacific Time (US &amp; Canada)</td>\n",
       "    </tr>\n",
       "    <tr>\n",
       "      <th>4</th>\n",
       "      <td>570300817074462722</td>\n",
       "      <td>negative</td>\n",
       "      <td>1.0000</td>\n",
       "      <td>Can't Tell</td>\n",
       "      <td>1.0000</td>\n",
       "      <td>Virgin America</td>\n",
       "      <td>NaN</td>\n",
       "      <td>jnardino</td>\n",
       "      <td>NaN</td>\n",
       "      <td>0</td>\n",
       "      <td>@VirginAmerica and it's a really big bad thing...</td>\n",
       "      <td>NaN</td>\n",
       "      <td>2015-02-24 11:14:45 -0800</td>\n",
       "      <td>NaN</td>\n",
       "      <td>Pacific Time (US &amp; Canada)</td>\n",
       "    </tr>\n",
       "    <tr>\n",
       "      <th>5</th>\n",
       "      <td>570300767074181121</td>\n",
       "      <td>negative</td>\n",
       "      <td>1.0000</td>\n",
       "      <td>Can't Tell</td>\n",
       "      <td>0.6842</td>\n",
       "      <td>Virgin America</td>\n",
       "      <td>NaN</td>\n",
       "      <td>jnardino</td>\n",
       "      <td>NaN</td>\n",
       "      <td>0</td>\n",
       "      <td>@VirginAmerica seriously would pay $30 a fligh...</td>\n",
       "      <td>NaN</td>\n",
       "      <td>2015-02-24 11:14:33 -0800</td>\n",
       "      <td>NaN</td>\n",
       "      <td>Pacific Time (US &amp; Canada)</td>\n",
       "    </tr>\n",
       "    <tr>\n",
       "      <th>6</th>\n",
       "      <td>570300616901320704</td>\n",
       "      <td>positive</td>\n",
       "      <td>0.6745</td>\n",
       "      <td>NaN</td>\n",
       "      <td>0.0000</td>\n",
       "      <td>Virgin America</td>\n",
       "      <td>NaN</td>\n",
       "      <td>cjmcginnis</td>\n",
       "      <td>NaN</td>\n",
       "      <td>0</td>\n",
       "      <td>@VirginAmerica yes, nearly every time I fly VX...</td>\n",
       "      <td>NaN</td>\n",
       "      <td>2015-02-24 11:13:57 -0800</td>\n",
       "      <td>San Francisco CA</td>\n",
       "      <td>Pacific Time (US &amp; Canada)</td>\n",
       "    </tr>\n",
       "    <tr>\n",
       "      <th>7</th>\n",
       "      <td>570300248553349120</td>\n",
       "      <td>neutral</td>\n",
       "      <td>0.6340</td>\n",
       "      <td>NaN</td>\n",
       "      <td>NaN</td>\n",
       "      <td>Virgin America</td>\n",
       "      <td>NaN</td>\n",
       "      <td>pilot</td>\n",
       "      <td>NaN</td>\n",
       "      <td>0</td>\n",
       "      <td>@VirginAmerica Really missed a prime opportuni...</td>\n",
       "      <td>NaN</td>\n",
       "      <td>2015-02-24 11:12:29 -0800</td>\n",
       "      <td>Los Angeles</td>\n",
       "      <td>Pacific Time (US &amp; Canada)</td>\n",
       "    </tr>\n",
       "    <tr>\n",
       "      <th>8</th>\n",
       "      <td>570299953286942721</td>\n",
       "      <td>positive</td>\n",
       "      <td>0.6559</td>\n",
       "      <td>NaN</td>\n",
       "      <td>NaN</td>\n",
       "      <td>Virgin America</td>\n",
       "      <td>NaN</td>\n",
       "      <td>dhepburn</td>\n",
       "      <td>NaN</td>\n",
       "      <td>0</td>\n",
       "      <td>@virginamerica Well, I didn't…but NOW I DO! :-D</td>\n",
       "      <td>NaN</td>\n",
       "      <td>2015-02-24 11:11:19 -0800</td>\n",
       "      <td>San Diego</td>\n",
       "      <td>Pacific Time (US &amp; Canada)</td>\n",
       "    </tr>\n",
       "    <tr>\n",
       "      <th>9</th>\n",
       "      <td>570295459631263746</td>\n",
       "      <td>positive</td>\n",
       "      <td>1.0000</td>\n",
       "      <td>NaN</td>\n",
       "      <td>NaN</td>\n",
       "      <td>Virgin America</td>\n",
       "      <td>NaN</td>\n",
       "      <td>YupitsTate</td>\n",
       "      <td>NaN</td>\n",
       "      <td>0</td>\n",
       "      <td>@VirginAmerica it was amazing, and arrived an ...</td>\n",
       "      <td>NaN</td>\n",
       "      <td>2015-02-24 10:53:27 -0800</td>\n",
       "      <td>Los Angeles</td>\n",
       "      <td>Eastern Time (US &amp; Canada)</td>\n",
       "    </tr>\n",
       "  </tbody>\n",
       "</table>\n",
       "</div>"
      ],
      "text/plain": [
       "             tweet_id  ...               user_timezone\n",
       "0  570306133677760513  ...  Eastern Time (US & Canada)\n",
       "1  570301130888122368  ...  Pacific Time (US & Canada)\n",
       "2  570301083672813571  ...  Central Time (US & Canada)\n",
       "3  570301031407624196  ...  Pacific Time (US & Canada)\n",
       "4  570300817074462722  ...  Pacific Time (US & Canada)\n",
       "5  570300767074181121  ...  Pacific Time (US & Canada)\n",
       "6  570300616901320704  ...  Pacific Time (US & Canada)\n",
       "7  570300248553349120  ...  Pacific Time (US & Canada)\n",
       "8  570299953286942721  ...  Pacific Time (US & Canada)\n",
       "9  570295459631263746  ...  Eastern Time (US & Canada)\n",
       "\n",
       "[10 rows x 15 columns]"
      ]
     },
     "execution_count": 11,
     "metadata": {
      "tags": []
     },
     "output_type": "execute_result"
    }
   ],
   "source": [
    "tweetsdata.head(10)"
   ]
  },
  {
   "cell_type": "code",
   "execution_count": 12,
   "metadata": {
    "colab": {
     "base_uri": "https://localhost:8080/",
     "height": 86
    },
    "colab_type": "code",
    "id": "muXu1C-wAQKY",
    "outputId": "dc937d9d-ec3a-4992-baa7-fb309a35ef2d"
   },
   "outputs": [
    {
     "data": {
      "text/plain": [
       "negative    9178\n",
       "neutral     3099\n",
       "positive    2363\n",
       "Name: airline_sentiment, dtype: int64"
      ]
     },
     "execution_count": 12,
     "metadata": {
      "tags": []
     },
     "output_type": "execute_result"
    }
   ],
   "source": [
    "tweetsdata['airline_sentiment'].value_counts()"
   ]
  },
  {
   "cell_type": "code",
   "execution_count": 13,
   "metadata": {
    "colab": {
     "base_uri": "https://localhost:8080/",
     "height": 138
    },
    "colab_type": "code",
    "id": "V6_qaKcrKpa4",
    "outputId": "4134f021-e6e1-460e-d5cd-57523cc70c52"
   },
   "outputs": [
    {
     "data": {
      "text/plain": [
       "United            3822\n",
       "US Airways        2913\n",
       "American          2759\n",
       "Southwest         2420\n",
       "Delta             2222\n",
       "Virgin America     504\n",
       "Name: airline, dtype: int64"
      ]
     },
     "execution_count": 13,
     "metadata": {
      "tags": []
     },
     "output_type": "execute_result"
    }
   ],
   "source": [
    "tweetsdata['airline'].value_counts()"
   ]
  },
  {
   "cell_type": "markdown",
   "metadata": {
    "colab_type": "text",
    "id": "TE6G3sIFKzP4"
   },
   "source": [
    "Some EDA to have a feel for the data, nature of sentiments contained in the data"
   ]
  },
  {
   "cell_type": "code",
   "execution_count": 14,
   "metadata": {
    "colab": {
     "base_uri": "https://localhost:8080/",
     "height": 540
    },
    "colab_type": "code",
    "id": "EVYpMgm4K8mN",
    "outputId": "1e61e7a8-ecbc-45af-8539-edffa34199dd"
   },
   "outputs": [
    {
     "data": {
      "image/png": "[encoded data removed]",
      "text/plain": [
       "<Figure size 1440x720 with 1 Axes>"
      ]
     },
     "metadata": {
      "tags": []
     },
     "output_type": "display_data"
    }
   ],
   "source": [
    "plt.figure(figsize=(20,10))\n",
    "sns.countplot(tweetsdata['airline_sentiment'], hue=tweetsdata['airline']);"
   ]
  },
  {
   "cell_type": "markdown",
   "metadata": {
    "colab_type": "text",
    "id": "qgWHldNaMVD-"
   },
   "source": [
    "INSIGHT: Large number of negative feedbacks, with United leading the pack on negatives, third on positives and second on neutral. Seems most folk are angry with travel experience during the period under review."
   ]
  },
  {
   "cell_type": "markdown",
   "metadata": {
    "colab_type": "text",
    "id": "tgZhmBgg5xNv"
   },
   "source": [
    "# 2. Understand of data-columns: (5 Marks)\n",
    "      a. Drop all other columns except “text” and “airline_sentiment”.\n",
    "      b. Check the shape of data.\n",
    "      c. Print first 5 rows of data"
   ]
  },
  {
   "cell_type": "code",
   "execution_count": 15,
   "metadata": {
    "colab": {},
    "colab_type": "code",
    "id": "GuxvyztDM37x"
   },
   "outputs": [],
   "source": [
    "# Fetching data for purpose of analysis\n",
    "# Only keeping airline_sentiment and text columns from the data, as these are useful for our analysis.\n",
    "\n",
    "sentimentsdata = tweetsdata.loc[:, ['airline_sentiment', 'text']]"
   ]
  },
  {
   "cell_type": "code",
   "execution_count": 16,
   "metadata": {
    "colab": {
     "base_uri": "https://localhost:8080/",
     "height": 69
    },
    "colab_type": "code",
    "id": "SK4evrN_NNhJ",
    "outputId": "15d130dc-5f07-48c0-9580-02106c5d1132"
   },
   "outputs": [
    {
     "data": {
      "text/plain": [
       "airline_sentiment    0\n",
       "text                 0\n",
       "dtype: int64"
      ]
     },
     "execution_count": 16,
     "metadata": {
      "tags": []
     },
     "output_type": "execute_result"
    }
   ],
   "source": [
    "sentimentsdata.isnull().sum(axis=0)                                # Check for NULL values."
   ]
  },
  {
   "cell_type": "markdown",
   "metadata": {
    "colab_type": "text",
    "id": "C827XrIdNhzC"
   },
   "source": [
    "No Null data, moving on"
   ]
  },
  {
   "cell_type": "code",
   "execution_count": 17,
   "metadata": {
    "colab": {
     "base_uri": "https://localhost:8080/",
     "height": 198
    },
    "colab_type": "code",
    "id": "ob9gWpq-Ntv8",
    "outputId": "0eac7d4a-fec1-4000-a88b-4148bce3cf6f"
   },
   "outputs": [
    {
     "data": {
      "text/html": [
       "<div>\n",
       "<style scoped>\n",
       "    .dataframe tbody tr th:only-of-type {\n",
       "        vertical-align: middle;\n",
       "    }\n",
       "\n",
       "    .dataframe tbody tr th {\n",
       "        vertical-align: top;\n",
       "    }\n",
       "\n",
       "    .dataframe thead th {\n",
       "        text-align: right;\n",
       "    }\n",
       "</style>\n",
       "<table border=\"1\" class=\"dataframe\">\n",
       "  <thead>\n",
       "    <tr style=\"text-align: right;\">\n",
       "      <th></th>\n",
       "      <th>airline_sentiment</th>\n",
       "      <th>text</th>\n",
       "    </tr>\n",
       "  </thead>\n",
       "  <tbody>\n",
       "    <tr>\n",
       "      <th>0</th>\n",
       "      <td>neutral</td>\n",
       "      <td>@VirginAmerica What @dhepburn said.</td>\n",
       "    </tr>\n",
       "    <tr>\n",
       "      <th>1</th>\n",
       "      <td>positive</td>\n",
       "      <td>@VirginAmerica plus you've added commercials to the experience... tacky.</td>\n",
       "    </tr>\n",
       "    <tr>\n",
       "      <th>2</th>\n",
       "      <td>neutral</td>\n",
       "      <td>@VirginAmerica I didn't today... Must mean I need to take another trip!</td>\n",
       "    </tr>\n",
       "    <tr>\n",
       "      <th>3</th>\n",
       "      <td>negative</td>\n",
       "      <td>@VirginAmerica it's really aggressive to blast obnoxious \"entertainment\" in your guests' faces &amp;amp; they have little recourse</td>\n",
       "    </tr>\n",
       "    <tr>\n",
       "      <th>4</th>\n",
       "      <td>negative</td>\n",
       "      <td>@VirginAmerica and it's a really big bad thing about it</td>\n",
       "    </tr>\n",
       "  </tbody>\n",
       "</table>\n",
       "</div>"
      ],
      "text/plain": [
       "  airline_sentiment                                                                                                                            text\n",
       "0           neutral                                                                                             @VirginAmerica What @dhepburn said.\n",
       "1          positive                                                        @VirginAmerica plus you've added commercials to the experience... tacky.\n",
       "2           neutral                                                         @VirginAmerica I didn't today... Must mean I need to take another trip!\n",
       "3          negative  @VirginAmerica it's really aggressive to blast obnoxious \"entertainment\" in your guests' faces &amp; they have little recourse\n",
       "4          negative                                                                         @VirginAmerica and it's a really big bad thing about it"
      ]
     },
     "execution_count": 17,
     "metadata": {
      "tags": []
     },
     "output_type": "execute_result"
    }
   ],
   "source": [
    "pd.set_option('display.max_colwidth', None) # Display full dataframe information (Non-turncated Text column.)\n",
    "sentimentsdata.head()                       # Check first 5 rows of data"
   ]
  },
  {
   "cell_type": "code",
   "execution_count": 18,
   "metadata": {
    "colab": {
     "base_uri": "https://localhost:8080/",
     "height": 35
    },
    "colab_type": "code",
    "id": "YSkmCY3uN6-v",
    "outputId": "c600ad4d-c231-4ab7-a080-3af7a971345b"
   },
   "outputs": [
    {
     "data": {
      "text/plain": [
       "(14640, 2)"
      ]
     },
     "execution_count": 18,
     "metadata": {
      "tags": []
     },
     "output_type": "execute_result"
    }
   ],
   "source": [
    "sentimentsdata.shape    "
   ]
  },
  {
   "cell_type": "markdown",
   "metadata": {
    "colab_type": "text",
    "id": "nsoKHJ286S3h"
   },
   "source": [
    "# 3. Text pre-processing: Data preparation. (20 Marks)\n",
    "    a. Html tag removal.\n",
    "    b. Tokenization.\n",
    "    c. Remove the numbers.\n",
    "    d. Removal of Special Characters and Punctuations.\n",
    "    e. Conversion to lowercase.\n",
    "    f. Lemmatize or stemming.\n",
    "    g. Join the words in the list to convert back to text string in the dataframe. (So that each row contains the data in text format.)\n",
    "    h. Print first 5 rows of data after pre-processing."
   ]
  },
  {
   "cell_type": "code",
   "execution_count": 19,
   "metadata": {
    "colab": {
     "base_uri": "https://localhost:8080/",
     "height": 198
    },
    "colab_type": "code",
    "id": "RwVORX-dOGwA",
    "outputId": "bc04d90b-e4ce-4cd0-a386-6829d0b61753"
   },
   "outputs": [
    {
     "data": {
      "text/html": [
       "<div>\n",
       "<style scoped>\n",
       "    .dataframe tbody tr th:only-of-type {\n",
       "        vertical-align: middle;\n",
       "    }\n",
       "\n",
       "    .dataframe tbody tr th {\n",
       "        vertical-align: top;\n",
       "    }\n",
       "\n",
       "    .dataframe thead th {\n",
       "        text-align: right;\n",
       "    }\n",
       "</style>\n",
       "<table border=\"1\" class=\"dataframe\">\n",
       "  <thead>\n",
       "    <tr style=\"text-align: right;\">\n",
       "      <th></th>\n",
       "      <th>airline_sentiment</th>\n",
       "      <th>text</th>\n",
       "    </tr>\n",
       "  </thead>\n",
       "  <tbody>\n",
       "    <tr>\n",
       "      <th>0</th>\n",
       "      <td>neutral</td>\n",
       "      <td>@VirginAmerica What @dhepburn said.</td>\n",
       "    </tr>\n",
       "    <tr>\n",
       "      <th>1</th>\n",
       "      <td>positive</td>\n",
       "      <td>@VirginAmerica plus you've added commercials to the experience... tacky.</td>\n",
       "    </tr>\n",
       "    <tr>\n",
       "      <th>2</th>\n",
       "      <td>neutral</td>\n",
       "      <td>@VirginAmerica I didn't today... Must mean I need to take another trip!</td>\n",
       "    </tr>\n",
       "    <tr>\n",
       "      <th>3</th>\n",
       "      <td>negative</td>\n",
       "      <td>@VirginAmerica it's really aggressive to blast obnoxious \"entertainment\" in your guests' faces &amp; they have little recourse</td>\n",
       "    </tr>\n",
       "    <tr>\n",
       "      <th>4</th>\n",
       "      <td>negative</td>\n",
       "      <td>@VirginAmerica and it's a really big bad thing about it</td>\n",
       "    </tr>\n",
       "  </tbody>\n",
       "</table>\n",
       "</div>"
      ],
      "text/plain": [
       "  airline_sentiment                                                                                                                        text\n",
       "0           neutral                                                                                         @VirginAmerica What @dhepburn said.\n",
       "1          positive                                                    @VirginAmerica plus you've added commercials to the experience... tacky.\n",
       "2           neutral                                                     @VirginAmerica I didn't today... Must mean I need to take another trip!\n",
       "3          negative  @VirginAmerica it's really aggressive to blast obnoxious \"entertainment\" in your guests' faces & they have little recourse\n",
       "4          negative                                                                     @VirginAmerica and it's a really big bad thing about it"
      ]
     },
     "execution_count": 19,
     "metadata": {
      "tags": []
     },
     "output_type": "execute_result"
    }
   ],
   "source": [
    "#A. First order of business on pre-processing - removing all html tags\n",
    "def strip_html(text):\n",
    "    soup = BeautifulSoup(text, \"html.parser\")\n",
    "    return soup.get_text()\n",
    "\n",
    "sentimentsdata['text'] = sentimentsdata['text'].apply(lambda x: strip_html(x))\n",
    "sentimentsdata.head()"
   ]
  },
  {
   "cell_type": "code",
   "execution_count": 20,
   "metadata": {
    "colab": {
     "base_uri": "https://localhost:8080/",
     "height": 198
    },
    "colab_type": "code",
    "id": "PwoNZRfJPMAz",
    "outputId": "8b4d94a7-dfa3-4353-e4b5-f04d24e2fe23"
   },
   "outputs": [
    {
     "data": {
      "text/html": [
       "<div>\n",
       "<style scoped>\n",
       "    .dataframe tbody tr th:only-of-type {\n",
       "        vertical-align: middle;\n",
       "    }\n",
       "\n",
       "    .dataframe tbody tr th {\n",
       "        vertical-align: top;\n",
       "    }\n",
       "\n",
       "    .dataframe thead th {\n",
       "        text-align: right;\n",
       "    }\n",
       "</style>\n",
       "<table border=\"1\" class=\"dataframe\">\n",
       "  <thead>\n",
       "    <tr style=\"text-align: right;\">\n",
       "      <th></th>\n",
       "      <th>airline_sentiment</th>\n",
       "      <th>text</th>\n",
       "    </tr>\n",
       "  </thead>\n",
       "  <tbody>\n",
       "    <tr>\n",
       "      <th>0</th>\n",
       "      <td>neutral</td>\n",
       "      <td>@VirginAmerica What @dhepburn said.</td>\n",
       "    </tr>\n",
       "    <tr>\n",
       "      <th>1</th>\n",
       "      <td>positive</td>\n",
       "      <td>@VirginAmerica plus you have added commercials to the experience... tacky.</td>\n",
       "    </tr>\n",
       "    <tr>\n",
       "      <th>2</th>\n",
       "      <td>neutral</td>\n",
       "      <td>@VirginAmerica I did not today... Must mean I need to take another trip!</td>\n",
       "    </tr>\n",
       "    <tr>\n",
       "      <th>3</th>\n",
       "      <td>negative</td>\n",
       "      <td>@VirginAmerica it is really aggressive to blast obnoxious \"entertainment\" in your guests' faces &amp; they have little recourse</td>\n",
       "    </tr>\n",
       "    <tr>\n",
       "      <th>4</th>\n",
       "      <td>negative</td>\n",
       "      <td>@VirginAmerica and it is a really big bad thing about it</td>\n",
       "    </tr>\n",
       "  </tbody>\n",
       "</table>\n",
       "</div>"
      ],
      "text/plain": [
       "  airline_sentiment                                                                                                                         text\n",
       "0           neutral                                                                                          @VirginAmerica What @dhepburn said.\n",
       "1          positive                                                   @VirginAmerica plus you have added commercials to the experience... tacky.\n",
       "2           neutral                                                     @VirginAmerica I did not today... Must mean I need to take another trip!\n",
       "3          negative  @VirginAmerica it is really aggressive to blast obnoxious \"entertainment\" in your guests' faces & they have little recourse\n",
       "4          negative                                                                     @VirginAmerica and it is a really big bad thing about it"
      ]
     },
     "execution_count": 20,
     "metadata": {
      "tags": []
     },
     "output_type": "execute_result"
    }
   ],
   "source": [
    "# Handling contractions which are common in written social media posts and feedback so no meaning is lost\n",
    "def replace_contractions(text):\n",
    "    \"\"\"Replace contractions in string of text\"\"\"\n",
    "    return contractions.fix(text)\n",
    "\n",
    "sentimentsdata['text'] = sentimentsdata['text'].apply(lambda x: replace_contractions(x))\n",
    "sentimentsdata.head()"
   ]
  },
  {
   "cell_type": "markdown",
   "metadata": {
    "colab_type": "text",
    "id": "ECTuk7EZPw_f"
   },
   "source": [
    "INSIGHT: Contractions dealth with - Can see improvement - \"didn't\" changed to \"did not\" as expected."
   ]
  },
  {
   "cell_type": "code",
   "execution_count": 21,
   "metadata": {
    "colab": {
     "base_uri": "https://localhost:8080/",
     "height": 198
    },
    "colab_type": "code",
    "id": "rGK4O3AGQNiy",
    "outputId": "25e398dc-2438-4168-fe38-f410d7aa6160"
   },
   "outputs": [
    {
     "data": {
      "text/html": [
       "<div>\n",
       "<style scoped>\n",
       "    .dataframe tbody tr th:only-of-type {\n",
       "        vertical-align: middle;\n",
       "    }\n",
       "\n",
       "    .dataframe tbody tr th {\n",
       "        vertical-align: top;\n",
       "    }\n",
       "\n",
       "    .dataframe thead th {\n",
       "        text-align: right;\n",
       "    }\n",
       "</style>\n",
       "<table border=\"1\" class=\"dataframe\">\n",
       "  <thead>\n",
       "    <tr style=\"text-align: right;\">\n",
       "      <th></th>\n",
       "      <th>airline_sentiment</th>\n",
       "      <th>text</th>\n",
       "    </tr>\n",
       "  </thead>\n",
       "  <tbody>\n",
       "    <tr>\n",
       "      <th>0</th>\n",
       "      <td>neutral</td>\n",
       "      <td>@VirginAmerica What @dhepburn said.</td>\n",
       "    </tr>\n",
       "    <tr>\n",
       "      <th>1</th>\n",
       "      <td>positive</td>\n",
       "      <td>@VirginAmerica plus you have added commercials to the experience... tacky.</td>\n",
       "    </tr>\n",
       "    <tr>\n",
       "      <th>2</th>\n",
       "      <td>neutral</td>\n",
       "      <td>@VirginAmerica I did not today... Must mean I need to take another trip!</td>\n",
       "    </tr>\n",
       "    <tr>\n",
       "      <th>3</th>\n",
       "      <td>negative</td>\n",
       "      <td>@VirginAmerica it is really aggressive to blast obnoxious \"entertainment\" in your guests' faces &amp; they have little recourse</td>\n",
       "    </tr>\n",
       "    <tr>\n",
       "      <th>4</th>\n",
       "      <td>negative</td>\n",
       "      <td>@VirginAmerica and it is a really big bad thing about it</td>\n",
       "    </tr>\n",
       "  </tbody>\n",
       "</table>\n",
       "</div>"
      ],
      "text/plain": [
       "  airline_sentiment                                                                                                                         text\n",
       "0           neutral                                                                                          @VirginAmerica What @dhepburn said.\n",
       "1          positive                                                   @VirginAmerica plus you have added commercials to the experience... tacky.\n",
       "2           neutral                                                     @VirginAmerica I did not today... Must mean I need to take another trip!\n",
       "3          negative  @VirginAmerica it is really aggressive to blast obnoxious \"entertainment\" in your guests' faces & they have little recourse\n",
       "4          negative                                                                     @VirginAmerica and it is a really big bad thing about it"
      ]
     },
     "execution_count": 21,
     "metadata": {
      "tags": []
     },
     "output_type": "execute_result"
    }
   ],
   "source": [
    "#C. Step 3 removing numbers\n",
    "def remove_numbers(text):\n",
    "  text = re.sub(r'\\d+', '', text)\n",
    "  return text\n",
    "\n",
    "sentimentsdata['text'] = sentimentsdata['text'].apply(lambda x: remove_numbers(x))\n",
    "sentimentsdata.head()"
   ]
  },
  {
   "cell_type": "code",
   "execution_count": 22,
   "metadata": {
    "colab": {},
    "colab_type": "code",
    "id": "d_OsiT6oQwVJ"
   },
   "outputs": [],
   "source": [
    "#Next step is Tokenization to make next steps of pre-processing easy\n",
    "sentimentsdata['text'] = sentimentsdata.apply(lambda row: nltk.word_tokenize(row['text']), axis=1) # Tokenization of data"
   ]
  },
  {
   "cell_type": "code",
   "execution_count": 23,
   "metadata": {
    "colab": {
     "base_uri": "https://localhost:8080/",
     "height": 215
    },
    "colab_type": "code",
    "id": "IBqfMlSsREgf",
    "outputId": "0a50f912-9ba1-4057-e24e-99306e419004"
   },
   "outputs": [
    {
     "data": {
      "text/html": [
       "<div>\n",
       "<style scoped>\n",
       "    .dataframe tbody tr th:only-of-type {\n",
       "        vertical-align: middle;\n",
       "    }\n",
       "\n",
       "    .dataframe tbody tr th {\n",
       "        vertical-align: top;\n",
       "    }\n",
       "\n",
       "    .dataframe thead th {\n",
       "        text-align: right;\n",
       "    }\n",
       "</style>\n",
       "<table border=\"1\" class=\"dataframe\">\n",
       "  <thead>\n",
       "    <tr style=\"text-align: right;\">\n",
       "      <th></th>\n",
       "      <th>airline_sentiment</th>\n",
       "      <th>text</th>\n",
       "    </tr>\n",
       "  </thead>\n",
       "  <tbody>\n",
       "    <tr>\n",
       "      <th>0</th>\n",
       "      <td>neutral</td>\n",
       "      <td>[@, VirginAmerica, What, @, dhepburn, said, .]</td>\n",
       "    </tr>\n",
       "    <tr>\n",
       "      <th>1</th>\n",
       "      <td>positive</td>\n",
       "      <td>[@, VirginAmerica, plus, you, have, added, commercials, to, the, experience, ..., tacky, .]</td>\n",
       "    </tr>\n",
       "    <tr>\n",
       "      <th>2</th>\n",
       "      <td>neutral</td>\n",
       "      <td>[@, VirginAmerica, I, did, not, today, ..., Must, mean, I, need, to, take, another, trip, !]</td>\n",
       "    </tr>\n",
       "    <tr>\n",
       "      <th>3</th>\n",
       "      <td>negative</td>\n",
       "      <td>[@, VirginAmerica, it, is, really, aggressive, to, blast, obnoxious, ``, entertainment, '', in, your, guests, ', faces, &amp;, they, have, little, recourse]</td>\n",
       "    </tr>\n",
       "    <tr>\n",
       "      <th>4</th>\n",
       "      <td>negative</td>\n",
       "      <td>[@, VirginAmerica, and, it, is, a, really, big, bad, thing, about, it]</td>\n",
       "    </tr>\n",
       "  </tbody>\n",
       "</table>\n",
       "</div>"
      ],
      "text/plain": [
       "  airline_sentiment                                                                                                                                                      text\n",
       "0           neutral                                                                                                            [@, VirginAmerica, What, @, dhepburn, said, .]\n",
       "1          positive                                                               [@, VirginAmerica, plus, you, have, added, commercials, to, the, experience, ..., tacky, .]\n",
       "2           neutral                                                              [@, VirginAmerica, I, did, not, today, ..., Must, mean, I, need, to, take, another, trip, !]\n",
       "3          negative  [@, VirginAmerica, it, is, really, aggressive, to, blast, obnoxious, ``, entertainment, '', in, your, guests, ', faces, &, they, have, little, recourse]\n",
       "4          negative                                                                                    [@, VirginAmerica, and, it, is, a, really, big, bad, thing, about, it]"
      ]
     },
     "execution_count": 23,
     "metadata": {
      "tags": []
     },
     "output_type": "execute_result"
    }
   ],
   "source": [
    "sentimentsdata.head()                                                                    # Look at how tokenized data looks."
   ]
  },
  {
   "cell_type": "markdown",
   "metadata": {
    "colab_type": "text",
    "id": "1-l2eWW1RRua"
   },
   "source": [
    "DEDUCTION: Expected results obtained - text data have been tokenized which will make next steps of preprocessing successful"
   ]
  },
  {
   "cell_type": "code",
   "execution_count": 24,
   "metadata": {
    "colab": {},
    "colab_type": "code",
    "id": "nz4HPoOCSZc6"
   },
   "outputs": [],
   "source": [
    "# Our special list of stop words - custom stop-word's list as not, couldn't etc. words matter in Sentiment, \n",
    "# so not removing them from original data.\n",
    "stopwords = stopwords.words('english')\n",
    "\n",
    "customlist = ['not', \"couldn't\", 'didn', \"didn't\", 'doesn', \"doesn't\", 'hadn', \"hadn't\", 'hasn',\n",
    "        \"hasn't\", 'haven', \"haven't\", 'isn', \"isn't\", 'ma', 'mightn', \"mightn't\", 'mustn',\n",
    "        \"mustn't\", 'needn', \"needn't\", 'shan', \"shan't\", 'shouldn', \"shouldn't\", 'wasn',\n",
    "        \"wasn't\", 'weren', \"weren't\", 'won', \"won't\", 'wouldn', \"wouldn't\"]\n",
    "\n",
    "stopwords = list(set(stopwords) - set(customlist))  "
   ]
  },
  {
   "cell_type": "code",
   "execution_count": 25,
   "metadata": {
    "colab": {
     "base_uri": "https://localhost:8080/",
     "height": 198
    },
    "colab_type": "code",
    "id": "FQYxCBoJRz97",
    "outputId": "2f774da1-1c14-44d7-fc7a-c8947daf7bad"
   },
   "outputs": [
    {
     "data": {
      "text/html": [
       "<div>\n",
       "<style scoped>\n",
       "    .dataframe tbody tr th:only-of-type {\n",
       "        vertical-align: middle;\n",
       "    }\n",
       "\n",
       "    .dataframe tbody tr th {\n",
       "        vertical-align: top;\n",
       "    }\n",
       "\n",
       "    .dataframe thead th {\n",
       "        text-align: right;\n",
       "    }\n",
       "</style>\n",
       "<table border=\"1\" class=\"dataframe\">\n",
       "  <thead>\n",
       "    <tr style=\"text-align: right;\">\n",
       "      <th></th>\n",
       "      <th>airline_sentiment</th>\n",
       "      <th>text</th>\n",
       "    </tr>\n",
       "  </thead>\n",
       "  <tbody>\n",
       "    <tr>\n",
       "      <th>0</th>\n",
       "      <td>neutral</td>\n",
       "      <td>virginamerica dhepburn say</td>\n",
       "    </tr>\n",
       "    <tr>\n",
       "      <th>1</th>\n",
       "      <td>positive</td>\n",
       "      <td>virginamerica plus add commercials experience tacky</td>\n",
       "    </tr>\n",
       "    <tr>\n",
       "      <th>2</th>\n",
       "      <td>neutral</td>\n",
       "      <td>virginamerica not today must mean need take another trip</td>\n",
       "    </tr>\n",
       "    <tr>\n",
       "      <th>3</th>\n",
       "      <td>negative</td>\n",
       "      <td>virginamerica really aggressive blast obnoxious entertainment guests face little recourse</td>\n",
       "    </tr>\n",
       "    <tr>\n",
       "      <th>4</th>\n",
       "      <td>negative</td>\n",
       "      <td>virginamerica really big bad thing</td>\n",
       "    </tr>\n",
       "  </tbody>\n",
       "</table>\n",
       "</div>"
      ],
      "text/plain": [
       "  airline_sentiment                                                                                       text\n",
       "0           neutral                                                                 virginamerica dhepburn say\n",
       "1          positive                                        virginamerica plus add commercials experience tacky\n",
       "2           neutral                                   virginamerica not today must mean need take another trip\n",
       "3          negative  virginamerica really aggressive blast obnoxious entertainment guests face little recourse\n",
       "4          negative                                                         virginamerica really big bad thing"
      ]
     },
     "execution_count": 25,
     "metadata": {
      "tags": []
     },
     "output_type": "execute_result"
    }
   ],
   "source": [
    "#Creating a suite of functions to handle Special Characters and Punctuations, lower case, punctuation removal, \n",
    "# stopwords, lemmatization and normalization and join everything back together\n",
    "\n",
    "lemmatizer = WordNetLemmatizer()\n",
    "\n",
    "def remove_non_ascii(words):\n",
    "    \"\"\"Remove non-ASCII characters from list of tokenized words\"\"\"\n",
    "    new_words = []\n",
    "    for word in words:\n",
    "        new_word = unicodedata.normalize('NFKD', word).encode('ascii', 'ignore').decode('utf-8', 'ignore')\n",
    "        new_words.append(new_word)\n",
    "    return new_words\n",
    "\n",
    "def to_lowercase(words):\n",
    "    \"\"\"Convert all characters to lowercase from list of tokenized words\"\"\"\n",
    "    new_words = []\n",
    "    for word in words:\n",
    "        new_word = word.lower()\n",
    "        new_words.append(new_word)\n",
    "    return new_words\n",
    "\n",
    "def remove_punctuation(words):\n",
    "    \"\"\"Remove punctuation from list of tokenized words\"\"\"\n",
    "    new_words = []\n",
    "    for word in words:\n",
    "        new_word = re.sub(r'[^\\w\\s]', '', word)\n",
    "        if new_word != '':\n",
    "            new_words.append(new_word)\n",
    "    return new_words\n",
    "\n",
    "def remove_stopwords(words):\n",
    "    \"\"\"Remove stop words from list of tokenized words\"\"\"\n",
    "    new_words = []\n",
    "    for word in words:\n",
    "        if word not in stopwords:\n",
    "            new_words.append(word)\n",
    "    return new_words\n",
    "\n",
    "def lemmatize_list(words):\n",
    "    new_words = []\n",
    "    for word in words:\n",
    "      new_words.append(lemmatizer.lemmatize(word, pos='v'))\n",
    "    return new_words\n",
    "\n",
    "def normalize(words):\n",
    "    words = remove_non_ascii(words)\n",
    "    words = to_lowercase(words)\n",
    "    words = remove_punctuation(words)\n",
    "    words = remove_stopwords(words)\n",
    "    words = lemmatize_list(words)\n",
    "    return ' '.join(words)\n",
    "\n",
    "sentimentsdata['text'] = sentimentsdata.apply(lambda row: normalize(row['text']), axis=1)\n",
    "sentimentsdata.head()"
   ]
  },
  {
   "cell_type": "markdown",
   "metadata": {
    "colab_type": "text",
    "id": "NsxpR_ldTXoR"
   },
   "source": [
    "DEDUCTION: Data preprocessing is now successful - expected results obtained"
   ]
  },
  {
   "cell_type": "markdown",
   "metadata": {
    "colab_type": "text",
    "id": "Hcwsv7T76lp4"
   },
   "source": [
    "# 4. Vectorization: (10 Marks)\n",
    "    a. Use CountVectorizer.\n",
    "    b. Use TfidfVectorizer"
   ]
  },
  {
   "cell_type": "code",
   "execution_count": 26,
   "metadata": {
    "colab": {},
    "colab_type": "code",
    "id": "3egUtlsuT0PN"
   },
   "outputs": [],
   "source": [
    "#USING CountVectorizer - applying unigram and bigram extraction through the ngram argument\n",
    "countVectorizer = CountVectorizer(max_features=1000, ngram_range=(1, 2))               # GOOD PRACTICE: Keep only 1000 features as number of features will increase the processing time.\n",
    "count_data_features = countVectorizer.fit_transform(sentimentsdata['text'])\n",
    "\n",
    "count_data_features = count_data_features.toarray()"
   ]
  },
  {
   "cell_type": "code",
   "execution_count": 27,
   "metadata": {
    "colab": {
     "base_uri": "https://localhost:8080/",
     "height": 35
    },
    "colab_type": "code",
    "id": "f148bUywV2lM",
    "outputId": "8ffdf788-cfc3-4637-b20c-2c4b6472f956"
   },
   "outputs": [
    {
     "data": {
      "text/plain": [
       "(14640, 1000)"
      ]
     },
     "execution_count": 27,
     "metadata": {
      "tags": []
     },
     "output_type": "execute_result"
    }
   ],
   "source": [
    "count_data_features.shape"
   ]
  },
  {
   "cell_type": "code",
   "execution_count": 28,
   "metadata": {
    "colab": {
     "base_uri": "https://localhost:8080/",
     "height": 138
    },
    "colab_type": "code",
    "id": "N8sofQk1Ua2z",
    "outputId": "63d71be6-8b2f-47d0-e371-bff89270fedb"
   },
   "outputs": [
    {
     "data": {
      "text/plain": [
       "TfidfVectorizer(analyzer='word', binary=False, decode_error='strict',\n",
       "                dtype=<class 'numpy.float64'>, encoding='utf-8',\n",
       "                input='content', lowercase=True, max_df=1.0, max_features=1000,\n",
       "                min_df=1, ngram_range=(1, 2), norm='l2', preprocessor=None,\n",
       "                smooth_idf=True, stop_words=None, strip_accents=None,\n",
       "                sublinear_tf=False, token_pattern='(?u)\\\\b\\\\w\\\\w+\\\\b',\n",
       "                tokenizer=None, use_idf=True, vocabulary=None)"
      ]
     },
     "execution_count": 28,
     "metadata": {
      "tags": []
     },
     "output_type": "execute_result"
    }
   ],
   "source": [
    "#USING TFIDVectorizer - \n",
    "tfidVectorizer = TfidfVectorizer(max_features=1000, ngram_range=(1, 2))\n",
    "# tokenize and build vocab\n",
    "tfidVectorizer.fit(sentimentsdata['text'])"
   ]
  },
  {
   "cell_type": "code",
   "execution_count": 29,
   "metadata": {
    "colab": {
     "base_uri": "https://localhost:8080/",
     "height": 1000
    },
    "colab_type": "code",
    "id": "Nw_eRdVkWU1o",
    "outputId": "a690d539-e67d-4691-fd8b-f1c7c369fb41"
   },
   "outputs": [
    {
     "name": "stdout",
     "output_type": "stream",
     "text": [
      "{'virginamerica': 942, 'say': 742, 'plus': 662, 'add': 9, 'experience': 272, 'not': 582, 'today': 860, 'must': 558, 'mean': 522, 'need': 562, 'take': 832, 'another': 45, 'trip': 872, 'really': 695, 'little': 492, 'big': 94, 'bad': 82, 'thing': 848, 'seriously': 755, 'would': 983, 'pay': 642, 'flight': 304, 'seat': 746, 'play': 658, 'fly': 330, 'yes': 995, 'every': 263, 'time': 856, 'go': 372, 'away': 77, 'every time': 264, 'time fly': 857, 'not go': 594, 'miss': 544, 'without': 970, 'https': 426, 'well': 963, 'amaze': 27, 'arrive': 63, 'hour': 414, 'early': 245, 'good': 375, 'know': 460, 'second': 747, 'pretty': 672, 'much': 556, 'better': 92, 'great': 376, 'deal': 208, 'already': 24, 'think': 850, 'nd': 561, 'even': 260, 'st': 800, 'yet': 997, 'not even': 589, 'travel': 870, 'http': 425, 'thank': 843, 'virginamerica thank': 943, 'schedule': 744, 'still': 811, 'mia': 532, 'excite': 269, 'first': 295, 'cross': 192, 'country': 185, 'lax': 472, 'mco': 521, 'hear': 393, 'nothing': 611, 'things': 849, 'virgin': 941, 'nyc': 616, 'sfo': 761, 'last': 466, 'week': 960, 'could': 180, 'sit': 768, 'due': 241, 'two': 886, 'either': 248, 'help': 395, 'could not': 182, 'awesome': 78, 'please': 659, 'want': 951, 'fare': 282, 'may': 519, 'three': 852, 'available': 75, 'select': 750, 'love': 506, 'feel': 287, 'make': 512, 'bos': 105, 'las': 465, 'non': 579, 'stop': 815, 'soon': 780, 'guy': 382, 'mess': 530, 'friends': 348, 'give': 369, 'free': 343, 'status': 807, 'program': 679, 'apply': 58, 'weeks': 962, 'call': 115, 'email': 250, 'response': 719, 'happen': 388, 'ur': 914, 'food': 337, 'options': 627, 'least': 475, 'site': 771, 'able': 1, 'anything': 52, 'next': 574, 'hrs': 423, 'fail': 279, 'not able': 583, 'worry': 977, 'together': 861, 'get': 358, 'cold': 153, 'air': 15, 'not get': 592, 'ewr': 267, 'middle': 534, 'hi': 400, 'cool': 177, 'birthday': 95, 'name': 559, 'book': 102, 'problems': 677, 'flight book': 307, 'book problems': 104, 'hours': 417, 'club': 151, 'post': 669, 'online': 624, 'leave': 476, 'iad': 430, 'one': 622, 'answer': 48, 'number': 614, 'one answer': 623, 'return': 720, 'phone': 648, 'prefer': 671, 'use': 937, 'option': 626, 'news': 573, 'start': 805, 'end': 255, 'year': 993, 'via': 940, 'nice': 577, 'rt': 731, 'way': 955, 'best': 91, 'ever': 262, 'experience ever': 273, 'do': 236, 'airline': 17, 'around': 61, 'hand': 385, 'book flight': 103, 'support': 823, 'work': 975, 'not work': 609, 'sign': 766, 'beyond': 93, 'hey': 399, 'flyer': 333, 'hard': 390, 'account': 7, 'first time': 297, 'get flight': 364, 'plz': 663, 'win': 967, 'upgrade': 912, 'ticket': 855, 'move': 555, 'new': 570, 'city': 143, 'expire': 274, 'not fly': 591, 'dallas': 201, 'feb': 284, 'flight leave': 316, 'reason': 696, 'rock': 725, 'wow': 988, 'mind': 539, 'night': 578, 'oscars': 632, 'last night': 467, 'suppose': 824, 'minutes': 543, 'ago': 14, 'website': 959, 'show': 765, 'though': 851, 'wish': 969, 'atlanta': 68, 'la': 462, 'th': 842, 'lga': 483, 'try': 875, 'since': 767, 'page': 635, 'never': 566, 'load': 494, 'thx': 854, 'try book': 876, 'let': 479, 'us': 915, 'let us': 481, 'still not': 812, 'sorry': 782, 'dca': 207, 'pm': 664, 'check': 136, 'someone': 777, 'try get': 878, 'hold': 403, 'earlier': 243, 'tonight': 864, 'hold minutes': 407, 'earlier flight': 244, 'award': 76, 'everything': 266, 'fine': 294, 'lose': 501, 'bag': 84, 'lose bag': 502, 'change': 131, 'reservation': 715, 'credit': 189, 'card': 123, 'fee': 285, 'need change': 563, 'credit card': 190, 'change fee': 132, 'customer': 195, 'service': 757, 'team': 836, 'track': 867, 'customer service': 197, 'let know': 480, 'baggage': 86, 'step': 809, 'ride': 722, 'plane': 655, 'crew': 191, 'airlines': 19, 'like': 486, 'morning': 554, 'correct': 178, 'watch': 953, 'different': 228, 'media': 525, 'anyway': 53, 'speak': 797, 'human': 428, 'possible': 668, 'soon possible': 781, 'southwestair': 786, 'jetblue': 446, 'member': 527, 'inflight': 438, 'delay': 209, 'late': 469, 'late flight': 470, 'cancel': 117, 'four': 342, 'plan': 654, 'cancel flight': 118, 'disappoint': 231, 'share': 762, 'business': 110, 'meet': 526, 'trouble': 873, 'wife': 965, 'bring': 108, 'code': 152, 'life': 485, 'home': 408, 'not let': 600, 'back': 81, 'yeah': 992, 'point': 665, 'tv': 882, 'flightled': 325, 'jfk': 453, 'cancel flightled': 121, 'flightled flight': 326, 'flight flight': 313, 'flight go': 315, 'land': 464, 'friendly': 347, 'mobile': 548, 'passengers': 640, 'tell': 837, 'class': 145, 'st class': 801, 'find': 293, 'phone number': 649, 'not find': 590, 'anyone': 51, 'answer phone': 49, 'miss flight': 546, 'check bag': 137, 'direct': 229, 'fll': 328, 'layover': 473, 'vegas': 939, 'buy': 112, 'direct flight': 230, 'people': 643, 'customerservice': 199, 'line': 487, 'hang': 387, 'info': 439, 'weather': 957, 'look': 498, 'flight today': 320, 'due weather': 242, 'look like': 500, 'flight still': 318, 'lot': 504, 'come': 154, 'phl': 646, 'horrible': 412, 'concern': 165, 'delay due': 211, 'helpful': 398, 'rep': 708, 'right': 724, 'bc': 88, 'run': 735, 'gate': 355, 'wait': 946, 'keep': 456, 'delay flight': 212, 'totally': 866, 'folks': 334, 'problem': 676, 'min': 538, 'connect': 169, 'seem': 749, 'long': 496, 'san': 739, 'get home': 366, 'service ever': 758, 'provide': 681, 'first class': 296, 'change flight': 133, 'wait time': 949, 'completely': 163, 'month': 552, 'nonstop': 580, 'depart': 219, 'flight cancel': 308, 'customers': 198, 'process': 678, 'link': 488, 'tsa': 879, 'terrible': 841, 'hotel': 413, 'give us': 370, 'assistance': 66, 'yesterday': 996, 'longer': 497, 'pls': 661, 'drop': 240, 'always': 26, 'frustrate': 350, 'not book': 586, 'extra': 276, 'luggage': 509, 'might': 535, 'hire': 402, 'world': 976, 'flt': 329, 'monday': 550, 'web': 958, 'flight not': 317, 'staff': 802, 'super': 821, 'offer': 617, 'sad': 737, 'question': 686, 'not give': 593, 'dc': 206, 'understand': 892, 'dm': 235, 'policy': 666, 'kid': 458, 'priority': 674, 'board': 100, 'purchase': 683, 'happy': 389, 'dfw': 227, 'friday': 345, 'error': 259, 'contact': 174, 'minute': 542, 'reschedule': 713, 'fix': 298, 'tomorrow': 862, 'unacceptable': 891, 'stick': 810, 'could get': 181, 'include': 436, 'agent': 12, 'close': 148, 'assist': 65, 'austin': 73, 'route': 729, 'receive': 700, 'reply': 709, 'airport': 20, 'checkin': 138, 'desk': 222, 'open': 625, 'luv': 510, 'fuck': 351, 'unite': 894, 'fl': 299, 'would love': 985, 'follow': 335, 'many': 516, 'worse': 978, 'respond': 718, 'spend': 799, 'money': 551, 'strand': 817, 'choice': 141, 'southwest': 785, 'days': 205, 'confirmation': 168, 'claim': 144, 'rebook': 697, 'another airline': 46, 'gold': 374, 'worst': 979, 'worst airline': 980, 'airline ever': 18, 'wrong': 990, 'issue': 443, 'head': 392, 'americanairlines': 43, 'suck': 819, 'flightlation': 323, 'notice': 612, 'drive': 239, 'cancel flightlation': 119, 'boston': 106, 'expect': 271, 'high': 401, 'quick': 687, 'apparently': 57, 'send': 752, 'get cancel': 362, 'send dm': 753, 'ny': 615, 'pilot': 652, 'job': 454, 'snow': 775, 'great flight': 377, 'great job': 378, 'area': 60, 'afternoon': 11, 'thank much': 846, 'row': 730, 'mention': 529, 'mechanical': 523, 'handle': 386, 'drink': 238, 'flight delay': 311, 'delay hours': 213, 'twitter': 885, 'charge': 134, 'refuse': 705, 'refund': 704, 'reschedule flight': 714, 'access': 5, 'passbook': 638, 'break': 107, 'forward': 341, 'look forward': 499, 'cost': 179, 'put': 685, 'report': 710, 'bite': 96, 'attendant': 70, 'flight attendant': 305, 'something': 778, 'departure': 220, 'sound': 784, 'fun': 353, 'update': 911, 'count': 183, 'continue': 175, 'sort': 783, 'help get': 396, 'ice': 432, 'passenger': 639, 'file': 289, 'destination': 224, 'baggage claim': 87, 'not help': 597, 'easy': 247, 'see': 748, 'march': 517, 'entire': 258, 'request': 712, 'confirm': 167, 'treat': 871, 'not good': 595, 'wtf': 991, 'inconvenience': 437, 'full': 352, 'place': 653, 'not want': 608, 'instead': 441, 'cabin': 114, 'behind': 89, 'still wait': 814, 'past': 641, 'order': 629, 'husband': 429, 'wonder': 972, 'despite': 223, 'safety': 738, 'not wait': 607, 'day': 204, 'lose luggage': 503, 'rout': 728, 'newark': 572, 'hope': 410, 'fly guy': 331, 'probably': 675, 'save': 740, 'standby': 804, 'absolutely': 3, 'ready': 693, 'old': 621, 'less': 478, 'half': 384, 'price': 673, 'round': 727, 'sell': 751, 'promise': 680, 'care': 124, 'take care': 833, 'mileage': 536, 'several': 760, 'americanair': 29, 'need help': 565, 'glad': 371, 'years': 994, 'earn': 246, 'message': 531, 'hop': 409, 'force': 338, 'small': 774, 'carry': 125, 'empty': 254, 'space': 796, 'loyal': 507, 'rd': 689, 'would like': 984, 'turn': 881, 'course': 186, 'family': 280, 'ok': 619, 'receipt': 699, 'please help': 660, 'currently': 193, 'plane not': 656, 'pick': 651, 'tweet': 883, 'car': 122, 'cust': 194, 'child': 140, 'chance': 130, 'joke': 455, 'also': 25, 'flight crew': 310, 'tix': 859, 'yr': 998, 'flight change': 309, 'submit': 818, 'ceo': 129, 'pull': 682, 'computer': 164, 'guess': 381, 'announce': 44, 'deserve': 221, 'address': 10, 'email address': 251, 'app': 56, 'set': 759, 'waste': 952, 'system': 830, 'accept': 4, 'learn': 474, 'houston': 420, 'finally': 291, 'forget': 339, 'future': 354, 'poor': 667, 'excellent': 268, 'last time': 468, 'flight get': 314, 'group': 380, 'room': 726, 'get plane': 367, 'thank make': 845, 'make flight': 513, 'sure': 825, 'shit': 763, 'bump': 109, 'stay': 808, 'man': 515, 'wifi': 966, 'saw': 741, 'part': 636, 'whole': 964, 'short': 764, 'overhead': 633, 'person': 644, 'ask': 64, 'luck': 508, 'not cancel': 587, 'accommodate': 6, 'lol': 495, 'storm': 816, 'complete': 162, 'cut': 200, 'philly': 645, 'months': 553, 'reps': 711, 'regard': 706, 'actually': 8, 'unite thank': 904, 'word': 974, 'resolve': 717, 'unite still': 903, 'lack': 463, 'fill': 290, 'connections': 172, 'international': 442, 'orlando': 631, 'mins': 541, 'wo': 971, 'way get': 956, 'gate agent': 356, 'unite not': 900, 'oh': 618, 'unite worst': 907, 'transfer': 869, 'not sure': 604, 'case': 126, 'unite yes': 909, 'wonderful': 973, 'voucher': 944, 'never get': 568, 'company': 157, 'maybe': 520, 'pass': 637, 'son': 779, 'unite need': 899, 'miami': 533, 'unite try': 905, 'explain': 275, 'talk': 834, 'get bag': 360, 'almost': 23, 'ppl': 670, 'daughter': 203, 'flightr': 327, 'keep get': 457, 'late flightr': 471, 'anymore': 50, 'platinum': 657, 'not take': 605, 'agents': 13, 'rude': 733, 'overnight': 634, 'hr': 422, 'iah': 431, 'detail': 226, 'charlotte': 135, 'thank help': 844, 'form': 340, 'vouchers': 945, 'another flight': 47, 'anywhere': 54, 'call back': 116, 'grind': 379, 'else': 249, 'appreciate': 59, 'tarmac': 835, 'ua': 889, 'board pass': 101, 'bag not': 85, 'enough': 257, 'denver': 218, 'say not': 743, 'train': 868, 'mistake': 547, 'ord': 628, 'supervisor': 822, 'tell not': 838, 'connect flight': 170, 'hrs late': 424, 'unite cancel': 896, 'fly unite': 332, 'thru': 853, 'connection': 171, 'upset': 913, 'employees': 253, 'not think': 606, 'mom': 549, 'miles': 537, 'american': 28, 'control': 176, 'rather': 688, 'unite send': 902, 'delta': 216, 'attendants': 71, 'attempt': 69, 'believe': 90, 'stand': 803, 'record': 701, 'read': 692, 'everyone': 265, 'not make': 601, 'switch': 829, 'aircraft': 16, 'winter': 968, 'reach': 691, 'unite ua': 906, 'unite get': 898, 'baby': 80, 'mine': 540, 'apology': 55, 'not care': 588, 'enjoy': 256, 'zero': 999, 'excuse': 270, 'cause': 128, 'members': 528, 'weekend': 961, 'unite please': 901, 'get back': 359, 'listen': 490, 'complaint': 160, 'awful': 79, 'jet': 444, 'matter': 518, 'atl': 67, 'get email': 363, 'miss connection': 545, 'worth': 982, 'conf': 166, 'not see': 603, 'unite flight': 897, 'communication': 155, 'flight time': 319, 'far': 281, 'note': 610, 'top': 865, 'unitedairlines': 910, 'kudos': 461, 'flight dfw': 312, 'extremely': 277, 'real': 694, 'clothe': 149, 'leg': 477, 'chicago': 139, 'lounge': 505, 'okay': 620, 'terminal': 840, 'two hours': 888, 'hour delay': 415, 'two days': 887, 'arrival': 62, 'information': 440, 'vacation': 938, 'nope': 581, 'sleep': 773, 'tell us': 839, 'even though': 261, 'ruin': 734, 'compensation': 159, 'original': 630, 'unite would': 908, 'deliver': 215, 'not leave': 599, 'write': 989, 'employee': 252, 'blame': 97, 'unite airlines': 895, 'feedback': 286, 'tire': 858, 'help us': 397, 'clt': 150, 'hours late': 419, 'sit tarmac': 770, 'idea': 434, 'neveragain': 569, 'figure': 288, 'screw': 745, 'counter': 184, 'still sit': 813, 'unfortunately': 893, 'flight ua': 322, 'phoenix': 647, 'front': 349, 'fact': 278, 'would not': 987, 'try call': 877, 'bwi': 113, 'go miss': 373, 'consider': 173, 'unable': 890, 'tag': 831, 'ridiculous': 723, 'fleet': 302, 'serve': 756, 'situation': 772, 'literally': 491, 'list': 489, 'gate agents': 357, 'however': 421, 'clear': 147, 'date': 202, 'never fly': 567, 'aa': 0, 'lie': 484, 'need get': 564, 'catch': 127, 'den': 217, 'reservations': 716, 'follow dm': 336, 'speak someone': 798, 'reflight': 702, 'reflight book': 703, 'tomorrow morning': 863, 'tuesday': 880, 'southwestair not': 790, 'worst customer': 981, 'id': 433, 'multiple': 557, 'state': 806, 'maintenance': 511, 'delay not': 214, 'friend': 346, 'twice': 884, 'finally get': 292, 'choose': 142, 'allow': 22, 'not allow': 584, 'rebooked': 698, 'sunday': 820, 'not happy': 596, 'sense': 754, 'hate': 391, 'huge': 427, 'hopefully': 411, 'complaints': 161, 'new flight': 571, 'rdu': 690, 'get gate': 365, 'usairways': 919, 'usairwaysfail': 936, 'americanair usairways': 40, 'freeze': 344, 'door': 237, 'next flight': 575, 'not believe': 585, 'sit plane': 769, 'crazy': 188, 'able get': 2, 'clean': 146, 'airways': 21, 'flight attendants': 306, 'not know': 598, 'fault': 283, 'make sure': 514, 'not need': 602, 'hold hour': 404, 'would nice': 986, 'nashville': 560, 'surprise': 826, 'get us': 368, 'compensate': 158, 'attitude': 72, 'hold hours': 405, 'cover': 187, 'disconnect': 232, 'flightlations': 324, 'cancel flightlations': 120, 'flight tomorrow': 321, 'southwestair get': 788, 'wall': 950, 'social': 776, 'hour wait': 416, 'runway': 736, 'true': 874, 'live': 493, 'push': 684, 'busy': 111, 'delay cancel': 210, 'notify': 613, 'hours hold': 418, 'us air': 916, 'hello': 394, 'relations': 707, 'next time': 576, 'thank reply': 847, 'usairways not': 927, 'wait hours': 948, 'water': 954, 'hold hrs': 406, 'wait bag': 947, 'bad weather': 83, 'usairways americanair': 920, 'mechanical issue': 524, 'bna': 99, 'kind': 459, 'americanair thank': 38, 'jetblue get': 449, 'automate': 74, 'companion': 156, 'haha': 383, 'sw': 827, 'get call': 361, 'americanair cancel': 31, 'letter': 482, 'reward': 721, 'phx': 650, 'southwestair flight': 787, 'southwestair thank': 792, 'southwestair hold': 789, 'americanair get': 33, 'southwestair try': 793, 'customer relations': 196, 'southwestair yes': 795, 'swa': 828, 'southwestair please': 791, 'southwestair would': 794, 'destinationdragons': 225, 'imaginedragons': 435, 'usairways flight': 923, 'usair': 918, 'usairways cancel': 922, 'blue': 98, 'jet blue': 445, 'jetblue flight': 448, 'jetblue not': 450, 'jetblue thank': 451, 'fleek': 300, 'jetblue would': 452, 'jetblue fleet': 447, 'fleet fleek': 303, 'fleek http': 301, 'rt jetblue': 732, 'usairways hold': 925, 'usairways thank': 930, 'usairways need': 926, 'usairways yes': 935, 'usairways get': 924, 'us airways': 917, 'usairways call': 921, 'dividend': 233, 'dividend miles': 234, 'usairways try': 931, 'usairways worst': 933, 'usairways please': 928, 'americanair flight': 32, 'usairways us': 932, 'usairways would': 934, 'americanair need': 34, 'americanair try': 39, 'americanair not': 35, 'usairways tell': 929, 'americanair call': 30, 'americanair would': 41, 'americanair still': 37, 'americanair yes': 42, 'americanair please': 36}\n",
      "[5.03089946 5.79579055 7.25937658 7.15759389 7.09507353 6.90270164\n",
      " 7.29574423 6.23487226 6.12567297 5.76326735 6.58424791 7.15759389\n",
      " 5.03862151 5.57430125 5.69374129 5.63575403 7.12584519 4.61016688\n",
      " 7.09507353 5.54172508 4.75677035 6.13723379 6.13723379 6.0272329\n",
      " 5.40979754 5.70123196 5.90944986 5.9568521  6.23487226 2.60202064\n",
      " 7.25937658 6.90270164 5.73176869 6.7849186  6.98066318 5.51017673\n",
      " 7.19038371 7.25937658 5.51017673 6.40192635 7.22428526 7.06522057\n",
      " 6.87800902 7.19038371 7.19038371 5.00433243 7.25937658 6.74143349\n",
      " 5.34983408 6.7849186  7.25937658 5.86419327 5.68630631 7.22428526\n",
      " 7.25937658 6.69976079 5.96660828 6.92801945 7.19038371 5.52267689\n",
      " 7.15759389 6.43269801 7.12584519 5.56770057 5.51017673 7.25937658\n",
      " 6.60259704 6.98066318 6.98066318 7.22428526 6.09177142 6.54852982\n",
      " 7.19038371 7.03623303 6.87800902 5.93762074 6.67955809 6.27409298\n",
      " 5.78756005 6.51404365 7.22428526 4.34935783 5.40419529 7.03623303\n",
      " 4.05199514 6.80739146 5.18890371 6.7849186  6.0272329  7.29574423\n",
      " 6.51404365 5.33408572 5.39862424 6.87800902 6.31491497 7.12584519\n",
      " 7.19038371 7.22428526 6.76293969 7.25937658 4.79856748 6.62128918\n",
      " 4.4074322  6.18486184 5.62873646 6.24777567 6.17274048 5.91875226\n",
      " 6.31491497 6.98066318 5.82940716 6.67955809 6.0377042  6.76293969\n",
      " 6.98066318 4.04479568 5.88205089 3.67189724 4.57786594 7.06522057\n",
      " 6.92801945 4.38904557 6.37207339 6.14892983 5.51017673 6.64033737\n",
      " 6.72038008 7.00806215 6.83038098 6.67955809 6.08072158 4.50936218\n",
      " 7.09507353 6.11424428 5.68630631 6.43269801 4.55371017 6.20955446\n",
      " 6.53113808 6.20955446 7.33348455 7.29574423 7.09507353 6.7849186\n",
      " 5.85538264 5.77939674 7.33348455 7.22428526 6.54852982 6.90270164\n",
      " 6.14892983 6.67955809 7.22428526 7.00806215 5.16223546 6.80739146\n",
      " 6.85391147 6.08072158 7.12584519 6.98066318 6.76293969 7.33348455\n",
      " 7.00806215 6.95399493 6.7849186  6.7849186  7.25937658 6.26084775\n",
      " 6.38688847 5.70123196 6.31491497 5.57430125 6.98066318 7.06522057\n",
      " 5.8124576  6.92801945 7.29574423 6.41719382 6.80739146 6.24777567\n",
      " 4.72511303 7.12584519 5.747394   6.287516   6.7849186  7.09507353\n",
      " 7.19038371 7.19038371 7.06522057 5.747394   7.09507353 5.11511754\n",
      " 6.95399493 6.7849186  6.65975546 3.99171059 7.29574423 4.26186019\n",
      " 5.37664533 6.95399493 7.19038371 6.16076429 6.72038008 7.25937658\n",
      " 4.80468371 5.14484372 6.51404365 5.99646124 5.9568521  3.75532181\n",
      " 7.22428526 6.98066318 5.96660828 6.65975546 7.19038371 6.58424791\n",
      " 5.928142   6.76293969 6.20955446 6.35747459 6.08072158 7.29574423\n",
      " 6.34308585 7.06522057 6.41719382 6.17274048 6.7849186  5.61484735\n",
      " 6.10294472 6.04828631 7.03623303 5.73176869 6.58424791 7.19038371\n",
      " 7.25937658 5.01185127 5.72404664 7.33348455 6.80739146 6.27409298\n",
      " 6.41719382 5.10264337 6.80739146 6.06979251 6.92801945 6.0589816\n",
      " 7.33348455 6.95399493 6.83038098 6.48070723 4.97480999 7.19038371\n",
      " 7.00806215 6.14892983 6.74143349 6.30112165 7.06522057 6.30112165\n",
      " 6.76293969 6.67955809 4.82013997 7.15759389 5.12352095 5.86419327\n",
      " 7.09507353 6.12567297 6.58424791 6.24777567 7.22428526 7.22428526\n",
      " 7.15759389 6.12567297 5.14054264 7.22428526 7.12584519 6.72038008\n",
      " 6.01687011 7.06522057 7.00806215 5.62873646 6.18486184 6.24777567\n",
      " 6.60259704 6.85391147 7.06522057 5.8379909  7.25937658 6.17274048\n",
      " 6.5662294  6.69976079 6.95399493 5.76326735 7.25937658 5.08624956\n",
      " 6.92801945 5.04250501 6.46444671 6.87800902 5.70123196 7.15759389\n",
      " 5.5809458  5.62176779 5.56114317 5.6011485  2.31722408 6.54852982\n",
      " 6.85391147 5.93762074 5.13199558 7.25937658 6.67955809 5.50398476\n",
      " 7.19038371 5.44991753 6.30112165 7.00806215 6.62128918 5.70123196\n",
      " 7.06522057 6.85391147 6.62128918 6.31491497 7.25937658 7.06522057\n",
      " 6.85391147 4.38098101 5.71638377 5.51017673 6.62128918 5.60797447\n",
      " 3.97417811 7.19038371 7.12584519 7.25937658 7.19038371 5.34455702\n",
      " 7.29574423 6.287516   6.7849186  6.85391147 6.67955809 6.65975546\n",
      " 7.15759389 5.73176869 7.06522057 7.12584519 6.46444671 7.19038371\n",
      " 7.00806215 7.09507353 5.73955083 6.83038098 6.13723379 7.03623303\n",
      " 6.85391147 4.36504442 6.24777567 7.06522057 3.01241312 6.5662294\n",
      " 7.09507353 7.12584519 6.83038098 7.25937658 6.54852982 7.22428526\n",
      " 6.0377042  6.92801945 6.72038008 4.68349815 7.15759389 6.64033737\n",
      " 3.95826266 7.25937658 7.15759389 4.90460573 4.82952971 7.12584519\n",
      " 7.09507353 6.13723379 6.74143349 6.40192635 4.55849487 7.15759389\n",
      " 6.30112165 7.09507353 6.31491497 5.47358728 5.48563562 6.09177142\n",
      " 6.5662294  6.92801945 6.54852982 5.76326735 7.09507353 3.7693837\n",
      " 7.12584519 7.03623303 5.96660828 6.32890121 6.0589816  6.90270164\n",
      " 7.22428526 4.05488949 6.44844636 6.31491497 6.92801945 6.74143349\n",
      " 4.93558928 6.41719382 5.65710716 6.80739146 6.18486184 5.6428212\n",
      " 4.42616324 6.41719382 7.12584519 4.11769039 6.85391147 6.49723653\n",
      " 6.51404365 7.29574423 5.84664896 4.90122164 7.29574423 3.56515428\n",
      " 6.58424791 6.98066318 6.74143349 7.00806215 6.60259704 6.69976079\n",
      " 7.22428526 7.12584519 6.51404365 6.74143349 7.19038371 6.98066318\n",
      " 7.00806215 5.61484735 6.58424791 5.98641091 6.5662294  4.93558928\n",
      " 6.5662294  7.19038371 2.87601156 5.60797447 6.16076429 7.19038371\n",
      " 5.97646057 5.54172508 6.95399493 5.37664533 6.09177142 6.64033737\n",
      " 5.23499482 7.06522057 6.04828631 7.00806215 4.52084336 7.15759389\n",
      " 6.85391147 6.49723653 5.41543136 6.7849186  4.88115407 6.53113808\n",
      " 7.22428526 4.58031392 5.12352095 5.54172508 5.79579055 7.15759389\n",
      " 6.85391147 6.13723379 4.68078445 6.85391147 6.40192635 4.99315913\n",
      " 7.03623303 6.13723379 7.15759389 6.64033737 6.67955809 6.5662294\n",
      " 4.53949192 5.2588623  6.30112165 6.74143349 7.09507353 7.19038371\n",
      " 6.37207339 6.53113808 6.58424791 6.54852982 5.40979754 6.46444671\n",
      " 4.93909191 6.90270164 6.37207339 4.8232601  6.58424791 7.06522057\n",
      " 6.06979251 7.03623303 5.00433243 6.64033737 6.98066318 5.09441287\n",
      " 7.00806215 6.60259704 4.08281195 7.09507353 7.22428526 7.22428526\n",
      " 5.93762074 7.25937658 7.09507353 6.35747459 6.23487226 6.80739146\n",
      " 5.91875226 6.34308585 7.03623303 6.95399493 6.54852982 6.58424791\n",
      " 7.00806215 7.29574423 6.74143349 6.12567297 7.22428526 6.62128918\n",
      " 7.06522057 6.27409298 7.15759389 5.59436882 5.17993504 7.33348455\n",
      " 7.15759389 5.66432741 6.5662294  4.94967402 4.60764481 6.37207339\n",
      " 6.54852982 7.22428526 7.19038371 7.19038371 6.60259704 6.0589816\n",
      " 6.83038098 6.7849186  5.49783089 6.10294472 5.17993504 7.09507353\n",
      " 6.98066318 5.94719019 6.92801945 6.60259704 4.0948061  7.19038371\n",
      " 6.62128918 6.49723653 4.8485779  6.41719382 7.22428526 7.25937658\n",
      " 5.02706068 7.09507353 6.44844636 7.15759389 5.14916338 6.74143349\n",
      " 7.25937658 5.70123196 5.6011485  7.15759389 7.25937658 7.15759389\n",
      " 2.44574148 6.90270164 7.15759389 7.25937658 7.29574423 7.25937658\n",
      " 6.83038098 5.77129953 6.74143349 6.69976079 5.11511754 7.12584519\n",
      " 6.64033737 7.00806215 7.19038371 6.23487226 6.65975546 7.09507353\n",
      " 6.27409298 6.60259704 7.25937658 6.95399493 6.65975546 6.92801945\n",
      " 7.19038371 6.64033737 6.51404365 6.01687011 6.98066318 5.56114317\n",
      " 7.03623303 7.09507353 5.08624956 7.25937658 6.34308585 5.64993867\n",
      " 6.14892983 5.93762074 6.90270164 6.22213324 4.30372253 7.29574423\n",
      " 5.33408572 5.87308222 6.34308585 6.60259704 6.06979251 7.22428526\n",
      " 6.98066318 6.95399493 7.37270527 7.22428526 7.15759389 7.12584519\n",
      " 6.92801945 5.75529918 7.29574423 6.76293969 5.35513913 6.32890121\n",
      " 4.97845298 4.94967402 5.928142   6.62128918 5.91875226 7.29574423\n",
      " 4.49801132 7.29574423 6.49723653 6.16076429 5.64993867 6.43269801\n",
      " 5.29827627 4.19966398 7.15759389 7.00806215 7.29574423 4.27803304\n",
      " 6.13723379 6.48070723 6.49723653 7.29574423 5.54815597 5.747394\n",
      " 6.287516   6.14892983 5.90944986 6.90270164 7.15759389 7.29574423\n",
      " 6.83038098 6.40192635 7.06522057 6.95399493 5.90023321 5.31346643\n",
      " 6.53113808 7.15759389 6.80739146 6.18486184 7.25937658 6.5662294\n",
      " 7.22428526 5.55462849 6.12567297 6.62128918 6.83038098 7.12584519\n",
      " 7.09507353 6.49723653 6.7849186  6.92801945 6.51404365 4.8944876\n",
      " 6.17274048 5.77129953 5.63575403 7.41352726 5.80408935 6.72038008\n",
      " 6.58424791 6.58424791 5.44991753 6.74143349 7.29574423 7.15759389\n",
      " 6.06979251 6.10294472 6.83038098 7.09507353 6.18486184 6.19713194\n",
      " 7.22428526 5.49783089 6.35747459 6.67955809 6.10294472 5.27837511\n",
      " 6.00661361 7.29574423 7.25937658 6.10294472 5.21630268 6.72038008\n",
      " 6.54852982 7.19038371 7.25937658 7.19038371 6.41719382 6.0377042\n",
      " 6.53113808 5.71638377 6.7849186  6.0589816  6.46444671 6.95399493\n",
      " 6.92801945 6.26084775 6.95399493 7.22428526 4.41779499 6.83038098\n",
      " 6.00661361 6.69976079 4.46908828 6.48070723 4.8485779  5.94719019\n",
      " 7.22428526 6.90270164 4.85500879 6.7849186  7.06522057 6.20955446\n",
      " 7.29574423 3.71325462 7.12584519 6.87800902 7.06522057 5.90944986\n",
      " 6.58424791 7.00806215 7.22428526 5.53533529 6.90270164 5.4382895\n",
      " 4.78946272 6.60259704 7.29574423 6.12567297 6.90270164 6.49723653\n",
      " 7.22428526 6.17274048 7.22428526 5.12352095 6.09177142 7.29574423\n",
      " 5.90023321 6.80739146 5.97646057 7.19038371 7.22428526 6.0272329\n",
      " 2.78610647 6.0589816  6.74143349 6.65975546 6.22213324 6.95399493\n",
      " 5.53533529 7.29574423 7.15759389 7.25937658 7.03623303 5.52898606\n",
      " 7.25937658 6.11424428 5.8124576  7.03623303 5.33408572 6.95399493\n",
      " 6.64033737 5.747394   7.03623303 5.90944986 6.287516   7.29574423\n",
      " 5.36583442 4.24945967 5.82089647 7.29574423 6.54852982 5.94719019\n",
      " 6.95399493 6.01687011 6.95399493 5.90023321 6.7849186  6.90270164\n",
      " 6.90270164 6.80739146 5.928142   5.40979754 7.22428526 6.74143349\n",
      " 6.65975546 6.43269801 5.63575403 7.15759389 4.37298097 6.90270164\n",
      " 5.70877917 6.14892983 5.90944986 4.43037377 7.15759389 7.03623303\n",
      " 6.49723653 5.98641091 6.22213324 3.18547771 6.80739146 7.22428526\n",
      " 6.34308585 7.29574423 6.34308585 6.46444671 5.19795354 6.04828631\n",
      " 6.37207339 6.5662294  5.93762074 4.64616048 3.80035963 7.03623303\n",
      " 7.19038371 7.12584519 4.56089583 6.35747459 4.87784829 6.98066318\n",
      " 5.51017673 6.95399493 7.15759389 7.12584519 6.7849186  6.98066318\n",
      " 4.8232601  6.22213324 5.17993504 7.03623303 7.12584519 4.25475536\n",
      " 6.98066318 7.09507353 6.18486184 6.87800902 6.95399493 6.5662294\n",
      " 6.76293969 5.82940716 6.38688847 6.23487226 5.22560508 7.25937658\n",
      " 6.76293969 5.26857111 7.09507353 6.10294472 5.82089647 7.09507353\n",
      " 2.32747533 7.06522057 7.29574423 5.68630631 6.69976079 6.83038098\n",
      " 5.36583442 6.85391147 7.09507353 7.25937658 5.19341839 6.83038098\n",
      " 6.90270164 7.03623303 6.69976079 6.37207339 6.74143349 5.40979754\n",
      " 5.70123196 6.87800902 6.30112165 4.03338329 7.06522057 6.5662294\n",
      " 6.69976079 2.58821803 5.82940716 7.29574423 7.22428526 5.82089647\n",
      " 6.67955809 6.19713194 7.19038371 5.69374129 7.03623303 7.19038371\n",
      " 5.69374129 6.95399493 7.22428526 7.12584519 7.09507353 7.09507353\n",
      " 7.29574423 5.00433243 6.20955446 6.14892983 5.91875226 7.19038371\n",
      " 4.34353822 7.29574423 5.9568521  7.25937658 4.02069813 7.29574423\n",
      " 7.12584519 6.44844636 7.00806215 4.77149816 6.60259704 6.53113808\n",
      " 7.12584519 4.76558098 7.09507353 4.8944876  7.29574423 5.54815597\n",
      " 5.79579055 7.00806215 6.26084775 5.50398476 6.80739146 6.12567297\n",
      " 5.79579055 6.85391147 7.03623303 6.69976079 5.91875226 7.25937658\n",
      " 6.90270164 7.19038371 6.69976079 4.59264453 6.69976079 6.58424791\n",
      " 6.49723653 5.13199558 6.69976079 6.74143349 7.19038371 4.03338329\n",
      " 6.41719382 6.67955809 7.29574423 6.23487226 6.7849186  7.06522057\n",
      " 6.26084775 6.87800902 6.76293969 6.04828631 6.72038008 5.12774929\n",
      " 5.90944986 5.56770057 7.03623303 6.98066318]\n"
     ]
    }
   ],
   "source": [
    "# summarize\n",
    "print(tfidVectorizer.vocabulary_)\n",
    "print(tfidVectorizer.idf_)"
   ]
  },
  {
   "cell_type": "code",
   "execution_count": 30,
   "metadata": {
    "colab": {
     "base_uri": "https://localhost:8080/",
     "height": 155
    },
    "colab_type": "code",
    "id": "Mc_zyUKXWbgD",
    "outputId": "06fe8d6e-6a44-4571-c742-035c318439e4"
   },
   "outputs": [
    {
     "name": "stdout",
     "output_type": "stream",
     "text": [
      "(14640, 1000)\n",
      "[[0. 0. 0. ... 0. 0. 0.]\n",
      " [0. 0. 0. ... 0. 0. 0.]\n",
      " [0. 0. 0. ... 0. 0. 0.]\n",
      " ...\n",
      " [0. 0. 0. ... 0. 0. 0.]\n",
      " [0. 0. 0. ... 0. 0. 0.]\n",
      " [0. 0. 0. ... 0. 0. 0.]]\n"
     ]
    }
   ],
   "source": [
    "# encode data\n",
    "#vector = tfidVectorizer.transform([text[0]])\n",
    "vector = tfidVectorizer.transform(sentimentsdata['text'])\n",
    "\n",
    "# summarize encoded vector\n",
    "tfid_data_features = vector.toarray()\n",
    "print(vector.shape)\n",
    "print(tfid_data_features)"
   ]
  },
  {
   "cell_type": "code",
   "execution_count": 31,
   "metadata": {
    "colab": {},
    "colab_type": "code",
    "id": "eDY29F7-DJP4"
   },
   "outputs": [],
   "source": [
    "# calculate the maximum document length\n",
    "def max_length(lines):\n",
    "\treturn max([len(s.split()) for s in lines])"
   ]
  },
  {
   "cell_type": "code",
   "execution_count": 32,
   "metadata": {
    "colab": {},
    "colab_type": "code",
    "id": "_TX3T8cdYv8h"
   },
   "outputs": [],
   "source": [
    "#We need to extract our labels in desired format \n",
    "\n",
    "#labels = sentimentsdata['airline_sentiment']\n",
    "#labels = labels.astype('int')"
   ]
  },
  {
   "cell_type": "code",
   "execution_count": 33,
   "metadata": {
    "colab": {},
    "colab_type": "code",
    "id": "Prbk1vmebD7D"
   },
   "outputs": [],
   "source": [
    "# label_encoder object knows how to understand word labels - like neutral, negative and positive\n",
    "label_encoder = preprocessing.LabelEncoder() \n",
    "# Encode labels in column 'airline_sentiment'. \n",
    "labels = label_encoder.fit_transform(sentimentsdata['airline_sentiment']) "
   ]
  },
  {
   "cell_type": "code",
   "execution_count": 34,
   "metadata": {
    "colab": {
     "base_uri": "https://localhost:8080/",
     "height": 35
    },
    "colab_type": "code",
    "id": "UUcZigqHc1ld",
    "outputId": "ae99508d-f4d8-4219-9d7f-1bec658f49b6"
   },
   "outputs": [
    {
     "data": {
      "text/plain": [
       "dtype('int64')"
      ]
     },
     "execution_count": 34,
     "metadata": {
      "tags": []
     },
     "output_type": "execute_result"
    }
   ],
   "source": [
    "labels.dtype"
   ]
  },
  {
   "cell_type": "code",
   "execution_count": 35,
   "metadata": {
    "colab": {
     "base_uri": "https://localhost:8080/",
     "height": 35
    },
    "colab_type": "code",
    "id": "fmwrV0HTwvhS",
    "outputId": "08d1fbb2-d9d2-4f0b-9428-8837b22c6a81"
   },
   "outputs": [
    {
     "data": {
      "text/plain": [
       "array([1, 2, 1, ..., 1, 0, 1])"
      ]
     },
     "execution_count": 35,
     "metadata": {
      "tags": []
     },
     "output_type": "execute_result"
    }
   ],
   "source": [
    "labels"
   ]
  },
  {
   "cell_type": "markdown",
   "metadata": {
    "colab_type": "text",
    "id": "aIkYKEim66DE"
   },
   "source": [
    "# 5. Fit and evaluate model using both type of vectorization. (6+6 Marks)"
   ]
  },
  {
   "cell_type": "markdown",
   "metadata": {
    "colab_type": "text",
    "id": "bMNbfPbMc9hQ"
   },
   "source": [
    "### Count Vectorizer - Fit and Evaluate model"
   ]
  },
  {
   "cell_type": "code",
   "execution_count": 36,
   "metadata": {
    "colab": {},
    "colab_type": "code",
    "id": "N2tmnlfpcBhs"
   },
   "outputs": [],
   "source": [
    "#Fitting and evaluating the Count Vectorizer data\n",
    "X_train, X_test, y_train, y_test = train_test_split(count_data_features, labels, test_size=0.3, random_state=42)"
   ]
  },
  {
   "cell_type": "code",
   "execution_count": 37,
   "metadata": {
    "colab": {
     "base_uri": "https://localhost:8080/",
     "height": 328
    },
    "colab_type": "code",
    "id": "bJzngZr9CysF",
    "outputId": "19e0e715-09f4-4914-f53c-c54b38b72bf5"
   },
   "outputs": [
    {
     "name": "stdout",
     "output_type": "stream",
     "text": [
      "Model: \"sequential\"\n",
      "_________________________________________________________________\n",
      "Layer (type)                 Output Shape              Param #   \n",
      "=================================================================\n",
      "conv1d (Conv1D)              (None, 998, 64)           256       \n",
      "_________________________________________________________________\n",
      "dense (Dense)                (None, 998, 16)           1040      \n",
      "_________________________________________________________________\n",
      "max_pooling1d (MaxPooling1D) (None, 499, 16)           0         \n",
      "_________________________________________________________________\n",
      "flatten (Flatten)            (None, 7984)              0         \n",
      "_________________________________________________________________\n",
      "dense_1 (Dense)              (None, 3)                 23955     \n",
      "=================================================================\n",
      "Total params: 25,251\n",
      "Trainable params: 25,251\n",
      "Non-trainable params: 0\n",
      "_________________________________________________________________\n"
     ]
    }
   ],
   "source": [
    "#Creating the Basic Conv1D Model for passage to the classifier\n",
    "\n",
    "Conv1Model = Sequential()\n",
    "Conv1Model.add(Conv1D(64, 3, activation=\"relu\", input_shape=(1000,1)))\n",
    "Conv1Model.add(Dense(16, activation=\"relu\"))\n",
    "Conv1Model.add(MaxPooling1D())\n",
    "Conv1Model.add(Flatten())\n",
    "Conv1Model.add(Dense(3, activation = 'softmax'))\n",
    "Conv1Model.compile(loss = 'sparse_categorical_crossentropy', \n",
    "     optimizer = \"adam\",               \n",
    "              metrics = ['accuracy'])\n",
    "Conv1Model.summary()"
   ]
  },
  {
   "cell_type": "code",
   "execution_count": 38,
   "metadata": {
    "colab": {},
    "colab_type": "code",
    "id": "mshHPVLGdYmt"
   },
   "outputs": [],
   "source": [
    "Classifiers = [\n",
    "    DecisionTreeClassifier(),\n",
    "    RandomForestClassifier(n_estimators=200, n_jobs=4), \n",
    "    XGBClassifier()]"
   ]
  },
  {
   "cell_type": "markdown",
   "metadata": {
    "colab_type": "text",
    "id": "kEUp-Lped_Xp"
   },
   "source": [
    "Predicting Sentiment from Tweetdata using - \n",
    "  1. DecisionTreeClassifier\n",
    "  2. RandomForestClassifier\n",
    "  3. XGBoost Classifier\n",
    "  4. Conv1D Classifier - LSTM"
   ]
  },
  {
   "cell_type": "code",
   "execution_count": 39,
   "metadata": {
    "colab": {
     "base_uri": "https://localhost:8080/",
     "height": 1000
    },
    "colab_type": "code",
    "id": "hQ8mdVL2fSmF",
    "outputId": "02e86480-4946-4bd3-8fa3-4a554b79c50a"
   },
   "outputs": [
    {
     "name": "stdout",
     "output_type": "stream",
     "text": [
      "CountVectorizer: Accuracy of DecisionTreeClassifier is 69.97%\n",
      "              precision    recall  f1-score   support\n",
      "\n",
      "    Negative       0.79      0.82      0.80      2721\n",
      "     Neutral       0.50      0.45      0.47      1001\n",
      "    Positive       0.59      0.61      0.60       670\n",
      "\n",
      "    accuracy                           0.70      4392\n",
      "   macro avg       0.63      0.62      0.62      4392\n",
      "weighted avg       0.69      0.70      0.70      4392\n",
      "\n"
     ]
    },
    {
     "data": {
      "text/plain": [
       "<Figure size 432x288 with 0 Axes>"
      ]
     },
     "metadata": {
      "tags": []
     },
     "output_type": "display_data"
    },
    {
     "data": {
      "image/png": "[encoded data removed]",
      "text/plain": [
       "<Figure size 864x576 with 1 Axes>"
      ]
     },
     "metadata": {
      "tags": []
     },
     "output_type": "display_data"
    },
    {
     "name": "stdout",
     "output_type": "stream",
     "text": [
      "CountVectorizer: Accuracy of RandomForestClassifier is 76.73%\n",
      "              precision    recall  f1-score   support\n",
      "\n",
      "    Negative       0.89      0.83      0.86      3032\n",
      "     Neutral       0.49      0.58      0.53       759\n",
      "    Positive       0.61      0.71      0.65       601\n",
      "\n",
      "    accuracy                           0.77      4392\n",
      "   macro avg       0.67      0.70      0.68      4392\n",
      "weighted avg       0.78      0.77      0.77      4392\n",
      "\n"
     ]
    },
    {
     "data": {
      "text/plain": [
       "<Figure size 432x288 with 0 Axes>"
      ]
     },
     "metadata": {
      "tags": []
     },
     "output_type": "display_data"
    },
    {
     "data": {
      "image/png": "[encoded data removed]",
      "text/plain": [
       "<Figure size 864x576 with 1 Axes>"
      ]
     },
     "metadata": {
      "tags": []
     },
     "output_type": "display_data"
    },
    {
     "name": "stdout",
     "output_type": "stream",
     "text": [
      "CountVectorizer: Accuracy of XGBClassifier is 73.84%\n",
      "              precision    recall  f1-score   support\n",
      "\n",
      "    Negative       0.96      0.74      0.84      3659\n",
      "     Neutral       0.18      0.76      0.30       214\n",
      "    Positive       0.54      0.72      0.62       519\n",
      "\n",
      "    accuracy                           0.74      4392\n",
      "   macro avg       0.56      0.74      0.58      4392\n",
      "weighted avg       0.87      0.74      0.78      4392\n",
      "\n"
     ]
    },
    {
     "data": {
      "text/plain": [
       "<Figure size 432x288 with 0 Axes>"
      ]
     },
     "metadata": {
      "tags": []
     },
     "output_type": "display_data"
    },
    {
     "data": {
      "image/png": "[encoded data removed]",
      "text/plain": [
       "<Figure size 864x576 with 1 Axes>"
      ]
     },
     "metadata": {
      "tags": []
     },
     "output_type": "display_data"
    }
   ],
   "source": [
    "Accuracy=[]\n",
    "Model=[]\n",
    "labelsNames = ['Negative', 'Neutral', 'Positive']\n",
    "for classifier in Classifiers:\n",
    "    try:\n",
    "        fit = classifier.fit(X_train,y_train)\n",
    "        pred = fit.predict(X_test)\n",
    "    except Exception:\n",
    "        fit = classifier.fit(X_train,y_train)\n",
    "        pred = fit.predict(X_test)\n",
    "    accuracy = accuracy_score(pred,y_test)\n",
    "    Accuracy.append(accuracy)\n",
    "    Model.append(classifier.__class__.__name__)\n",
    "    print('CountVectorizer: Accuracy of '+classifier.__class__.__name__+ \" is %.2f%%\" % (accuracy * 100.0))\n",
    "    print(classification_report(pred,y_test,target_names=labelsNames))\n",
    "    cm = confusion_matrix(pred , y_test)\n",
    "    plt.figure()\n",
    "    plot_confusion_matrix(cm,figsize=(12,8), hide_ticks=True,cmap=plt.cm.Blues)\n",
    "    plt.xticks(range(3), ['Negative', 'Neutral', 'Positive'], fontsize=16, color='black')\n",
    "    plt.yticks(range(3), ['Negative', 'Neutral', 'Positive'], fontsize=16)\n",
    "    plt.show()"
   ]
  },
  {
   "cell_type": "code",
   "execution_count": 40,
   "metadata": {
    "colab": {},
    "colab_type": "code",
    "id": "3lPW1-GYMwJh"
   },
   "outputs": [],
   "source": [
    "#Conv1Model.fit(X_train, y_train, batch_size=16,epochs=100, verbose=0)\n",
    "\n",
    "#acc = Conv1Model.evaluate(X_train, y_train)\n",
    "#print(\"Loss:\", acc[0], \" Accuracy:\", acc[1])\n",
    "\n",
    "#pred = Conv1Model.predict(X_test)\n",
    "#pred_y = pred.argmax(axis=-1)\n",
    "\n",
    "#cm = confusion_matrix(y_test, pred_y)\n",
    "#print(cm)"
   ]
  },
  {
   "cell_type": "markdown",
   "metadata": {
    "colab_type": "text",
    "id": "ArIvRTRyJyDp"
   },
   "source": [
    "### TFID Vectorizer - Fit and Evaluate model"
   ]
  },
  {
   "cell_type": "code",
   "execution_count": 41,
   "metadata": {
    "colab": {},
    "colab_type": "code",
    "id": "-QfWHeIUJ7WD"
   },
   "outputs": [],
   "source": [
    "#Fitting and evaluating the Count Vectorizer data\n",
    "X_train, X_test, y_train, y_test = train_test_split(tfid_data_features, labels, test_size=0.3, random_state=42)"
   ]
  },
  {
   "cell_type": "code",
   "execution_count": 42,
   "metadata": {
    "colab": {
     "base_uri": "https://localhost:8080/",
     "height": 1000
    },
    "colab_type": "code",
    "id": "f_to-adjKMM5",
    "outputId": "fc6cf9f4-2f1b-48d1-92c1-1002c571ac8d"
   },
   "outputs": [
    {
     "name": "stdout",
     "output_type": "stream",
     "text": [
      "TFIDVectorizer: Accuracy of DecisionTreeClassifier is 68.74%\n",
      "              precision    recall  f1-score   support\n",
      "\n",
      "    Negative       0.79      0.80      0.80      2772\n",
      "     Neutral       0.49      0.45      0.47       980\n",
      "    Positive       0.51      0.55      0.53       640\n",
      "\n",
      "    accuracy                           0.69      4392\n",
      "   macro avg       0.60      0.60      0.60      4392\n",
      "weighted avg       0.68      0.69      0.69      4392\n",
      "\n"
     ]
    },
    {
     "data": {
      "text/plain": [
       "<Figure size 432x288 with 0 Axes>"
      ]
     },
     "metadata": {
      "tags": []
     },
     "output_type": "display_data"
    },
    {
     "data": {
      "image/png": "[encoded data removed]",
      "text/plain": [
       "<Figure size 864x576 with 1 Axes>"
      ]
     },
     "metadata": {
      "tags": []
     },
     "output_type": "display_data"
    },
    {
     "name": "stdout",
     "output_type": "stream",
     "text": [
      "TFIDVectorizer: Accuracy of RandomForestClassifier is 77.21%\n",
      "              precision    recall  f1-score   support\n",
      "\n",
      "    Negative       0.92      0.81      0.86      3197\n",
      "     Neutral       0.46      0.61      0.52       667\n",
      "    Positive       0.57      0.75      0.65       528\n",
      "\n",
      "    accuracy                           0.77      4392\n",
      "   macro avg       0.65      0.72      0.68      4392\n",
      "weighted avg       0.81      0.77      0.78      4392\n",
      "\n"
     ]
    },
    {
     "data": {
      "text/plain": [
       "<Figure size 432x288 with 0 Axes>"
      ]
     },
     "metadata": {
      "tags": []
     },
     "output_type": "display_data"
    },
    {
     "data": {
      "image/png": "[encoded data removed]",
      "text/plain": [
       "<Figure size 864x576 with 1 Axes>"
      ]
     },
     "metadata": {
      "tags": []
     },
     "output_type": "display_data"
    },
    {
     "name": "stdout",
     "output_type": "stream",
     "text": [
      "TFIDVectorizer: Accuracy of XGBClassifier is 75.43%\n",
      "              precision    recall  f1-score   support\n",
      "\n",
      "    Negative       0.94      0.78      0.85      3421\n",
      "     Neutral       0.33      0.62      0.43       469\n",
      "    Positive       0.53      0.74      0.62       502\n",
      "\n",
      "    accuracy                           0.75      4392\n",
      "   macro avg       0.60      0.71      0.63      4392\n",
      "weighted avg       0.83      0.75      0.78      4392\n",
      "\n"
     ]
    },
    {
     "data": {
      "text/plain": [
       "<Figure size 432x288 with 0 Axes>"
      ]
     },
     "metadata": {
      "tags": []
     },
     "output_type": "display_data"
    },
    {
     "data": {
      "image/png": "[encoded data removed]",
      "text/plain": [
       "<Figure size 864x576 with 1 Axes>"
      ]
     },
     "metadata": {
      "tags": []
     },
     "output_type": "display_data"
    }
   ],
   "source": [
    "Accuracy=[]\n",
    "Model=[]\n",
    "labelsNames = ['Negative', 'Neutral', 'Positive']\n",
    "for classifier in Classifiers:\n",
    "    try:\n",
    "        fit = classifier.fit(X_train,y_train)\n",
    "        pred = fit.predict(X_test)\n",
    "    except Exception:\n",
    "        fit = classifier.fit(X_train,y_train)\n",
    "        pred = fit.predict(X_test)\n",
    "    accuracy = accuracy_score(pred,y_test)\n",
    "    Accuracy.append(accuracy)\n",
    "    Model.append(classifier.__class__.__name__)\n",
    "    print('TFIDVectorizer: Accuracy of '+classifier.__class__.__name__+ \" is %.2f%%\" % (accuracy * 100.0))\n",
    "    print(classification_report(pred,y_test,target_names=labelsNames))\n",
    "    cm = confusion_matrix(pred , y_test)\n",
    "    plt.figure()\n",
    "    plot_confusion_matrix(cm,figsize=(12,8), hide_ticks=True,cmap=plt.cm.Blues)\n",
    "    plt.xticks(range(3), ['Negative', 'Neutral', 'Positive'], fontsize=16, color='black')\n",
    "    plt.yticks(range(3), ['Negative', 'Neutral', 'Positive'], fontsize=16)\n",
    "    plt.show()"
   ]
  },
  {
   "cell_type": "markdown",
   "metadata": {
    "colab_type": "text",
    "id": "E_03NX-n7MJh"
   },
   "source": [
    "# 6. Summarize your understanding of the application of Various Pre-processing and Vectorization and performance of your model on this dataset. (8 Marks)"
   ]
  },
  {
   "cell_type": "markdown",
   "metadata": {
    "colab_type": "text",
    "id": "Zc7Vmi0k7XWH"
   },
   "source": [
    "Conclusion: Pre-processing is fundamental to building good predictive models for Natural Language Machine Learning Task. \n",
    "\n",
    "As computers do not understand human language, adequate preparation of the data before being fed into the machine learning model is extreme important.\n",
    "\n",
    "Generally, the choice of process for pre-processing is dependent on the scope of the Text classification or Sentiment analysis task.\n",
    "\n",
    "The steps to follow can be:\n",
    "\n",
    "1. Html tag removal.\n",
    "2. Tokenization.\n",
    "3. Remove the numbers.\n",
    "4. Removal of Special Characters and Punctuations.\n",
    "5. Conversion to lowercase.\n",
    "6. Lemmatize or stemming.\n",
    "\n",
    "\n",
    "Careful treatment of Stopwords, vis-a-vis their removal or not is important to effective sentiment analysis. In this project, care was taken to implement a custom stop words treatment so not to result in poor performance of the prediction models on negative sentiments. Thus, the various ML models used performed close very well in predicting negative sentiment as a result.\n",
    "\n",
    "Also, because dataset is from social media - lemmatization helped in ensuring the root word is not lost during preprocessing - and also to ensure words are mapped to correct form especially on the prevalence need to always shorten spellings on social media platform.\n",
    "\n",
    "In this project, CountVectorizer and TFIDVectorizers where used to process the input data. \n",
    "\n",
    "\n",
    "Unigram and bigrams were extracted through the ngram_range argument, this resulted in slight improvement in performance.\n",
    "\n",
    "The difference in result was evident - TFIDVectorizer gave better accuracy, precision, recall and f1_score on the input data over all the ML model used, compared to CountVectorizer. This is attributable to the architecture of words and inferences deductible\n",
    "\n",
    "1. TFIDVectorizer - TFIDF, short for term frequency–inverse document frequency, is a numerical statistic that is intended to reflect how important a word is to a document in a collection or corpus.\n",
    "\n",
    "2. CountVectorizer - which is used to transform a corpora of text to a vector of term / token counts. \n",
    "\n",
    "Conclusively, a count of words did not give better predictive potential to word importance-frequence especially in text classifications with attention on sentiments.\n",
    "\n",
    "Also, the pre-processing steps seems to have enhanced the capacity of the various models to predict negative sentiments better than positive sentiments, however all ML models performed poorly on neutral sentiments even though it was second highest sentiment in the dataset.\n",
    "\n",
    "While a higher performance was seen on negative sentiments, this may be connected to a larger datasets on negative sentiments compared to others sentiment types.\n",
    "\n",
    "Next steps and conclusion, striving for higher accuracy on positive and neutral sentiment will improve the overall performance of the models even better."
   ]
  }
 ],
 "metadata": {
  "accelerator": "GPU",
  "colab": {
   "collapsed_sections": [],
   "name": "Natural_Language_Processing_Project_Solution_Olabode_James.ipynb",
   "provenance": []
  },
  "kernelspec": {
   "display_name": "Python 3",
   "language": "python",
   "name": "python3"
  },
  "language_info": {
   "codemirror_mode": {
    "name": "ipython",
    "version": 3
   },
   "file_extension": ".py",
   "mimetype": "text/x-python",
   "name": "python",
   "nbconvert_exporter": "python",
   "pygments_lexer": "ipython3",
   "version": "3.7.4"
  }
 },
 "nbformat": 4,
 "nbformat_minor": 1
}
